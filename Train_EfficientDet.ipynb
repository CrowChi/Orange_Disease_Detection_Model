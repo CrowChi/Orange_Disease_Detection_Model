{
  "nbformat": 4,
  "nbformat_minor": 0,
  "metadata": {
    "colab": {
      "provenance": [],
      "toc_visible": true
    },
    "kernelspec": {
      "name": "python3",
      "display_name": "Python 3"
    },
    "accelerator": "GPU"
  },
  "cells": [
    {
      "cell_type": "code",
      "metadata": {
        "id": "X2EDGrtsba1E",
        "colab": {
          "base_uri": "https://localhost:8080/"
        },
        "outputId": "9183f51f-ee46-4904-9280-9b584f19ce78"
      },
      "source": [
        "#our fork of the Tessellate-Imaging image detection library\n",
        "#!rm -rf Monk_Object_Detection\n",
        "! git clone https://github.com/roboflow-ai/Monk_Object_Detection.git"
      ],
      "execution_count": null,
      "outputs": [
        {
          "output_type": "stream",
          "text": [
            "Cloning into 'Monk_Object_Detection'...\n",
            "remote: Enumerating objects: 3747, done.\u001b[K\n",
            "remote: Total 3747 (delta 0), reused 0 (delta 0), pack-reused 3747\u001b[K\n",
            "Receiving objects: 100% (3747/3747), 132.20 MiB | 32.63 MiB/s, done.\n",
            "Resolving deltas: 100% (800/800), done.\n",
            "Checking out files: 100% (4032/4032), done.\n"
          ],
          "name": "stdout"
        }
      ]
    },
    {
      "cell_type": "code",
      "metadata": {
        "id": "EIu1PTPlcAuU",
        "colab": {
          "base_uri": "https://localhost:8080/"
        },
        "outputId": "60d6c0a2-8c1f-43a3-c87b-b89ed55c830b"
      },
      "source": [
        "# For colab use the command below\n",
        "# Set up library requirments\n",
        "! cd Monk_Object_Detection/3_mxrcnn/installation && cat requirements_colab.txt | xargs -n 1 -L 1 pip install"
      ],
      "execution_count": null,
      "outputs": [
        {
          "output_type": "stream",
          "text": [
            "Collecting mxnet-cu100\n",
            "\u001b[?25l  Downloading https://files.pythonhosted.org/packages/44/46/09f7437679a3490d83c44867ec76cb77f8b02cf08b9d8f37043582e794c5/mxnet_cu100-1.8.0-py2.py3-none-manylinux2014_x86_64.whl (344.4MB)\n",
            "\u001b[K     |████████████████████████████████| 344.4MB 37kB/s \n",
            "\u001b[?25hRequirement already satisfied: numpy<2.0.0,>1.16.0 in /usr/local/lib/python3.7/dist-packages (from mxnet-cu100) (1.19.5)\n",
            "Collecting graphviz<0.9.0,>=0.8.1\n",
            "  Downloading https://files.pythonhosted.org/packages/53/39/4ab213673844e0c004bed8a0781a0721a3f6bb23eb8854ee75c236428892/graphviz-0.8.4-py2.py3-none-any.whl\n",
            "Requirement already satisfied: requests<3,>=2.20.0 in /usr/local/lib/python3.7/dist-packages (from mxnet-cu100) (2.23.0)\n",
            "Requirement already satisfied: urllib3!=1.25.0,!=1.25.1,<1.26,>=1.21.1 in /usr/local/lib/python3.7/dist-packages (from requests<3,>=2.20.0->mxnet-cu100) (1.24.3)\n",
            "Requirement already satisfied: chardet<4,>=3.0.2 in /usr/local/lib/python3.7/dist-packages (from requests<3,>=2.20.0->mxnet-cu100) (3.0.4)\n",
            "Requirement already satisfied: idna<3,>=2.5 in /usr/local/lib/python3.7/dist-packages (from requests<3,>=2.20.0->mxnet-cu100) (2.10)\n",
            "Requirement already satisfied: certifi>=2017.4.17 in /usr/local/lib/python3.7/dist-packages (from requests<3,>=2.20.0->mxnet-cu100) (2020.12.5)\n",
            "Installing collected packages: graphviz, mxnet-cu100\n",
            "  Found existing installation: graphviz 0.10.1\n",
            "    Uninstalling graphviz-0.10.1:\n",
            "      Successfully uninstalled graphviz-0.10.1\n",
            "Successfully installed graphviz-0.8.4 mxnet-cu100-1.8.0\n",
            "Collecting dicttoxml\n",
            "  Downloading https://files.pythonhosted.org/packages/74/36/534db111db9e7610a41641a1f6669a964aacaf51858f466de264cc8dcdd9/dicttoxml-1.7.4.tar.gz\n",
            "Building wheels for collected packages: dicttoxml\n",
            "  Building wheel for dicttoxml (setup.py) ... \u001b[?25l\u001b[?25hdone\n",
            "  Created wheel for dicttoxml: filename=dicttoxml-1.7.4-cp37-none-any.whl size=17452 sha256=5a5fe523ecf20138600f00ac21ccae638bc362993216d1f93e162f171fefcc39\n",
            "  Stored in directory: /root/.cache/pip/wheels/62/4f/a3/afd4a68f5add45a668c14efa53b64d5cffb2be6bacf993c151\n",
            "Successfully built dicttoxml\n",
            "Installing collected packages: dicttoxml\n",
            "Successfully installed dicttoxml-1.7.4\n",
            "Collecting xmltodict\n",
            "  Downloading https://files.pythonhosted.org/packages/28/fd/30d5c1d3ac29ce229f6bdc40bbc20b28f716e8b363140c26eff19122d8a5/xmltodict-0.12.0-py2.py3-none-any.whl\n",
            "Installing collected packages: xmltodict\n",
            "Successfully installed xmltodict-0.12.0\n",
            "Requirement already satisfied: pycocotools from git+https://github.com/abhi-kumar/cocoapi.git#egg=pycocotools&subdirectory=PythonAPI in /usr/local/lib/python3.7/dist-packages (2.0.2)\n",
            "Requirement already satisfied: matplotlib>=2.1.0 in /usr/local/lib/python3.7/dist-packages (from pycocotools) (3.2.2)\n",
            "Requirement already satisfied: cython>=0.27.3 in /usr/local/lib/python3.7/dist-packages (from pycocotools) (0.29.22)\n",
            "Requirement already satisfied: setuptools>=18.0 in /usr/local/lib/python3.7/dist-packages (from pycocotools) (54.1.2)\n",
            "Requirement already satisfied: pyparsing!=2.0.4,!=2.1.2,!=2.1.6,>=2.0.1 in /usr/local/lib/python3.7/dist-packages (from matplotlib>=2.1.0->pycocotools) (2.4.7)\n",
            "Requirement already satisfied: kiwisolver>=1.0.1 in /usr/local/lib/python3.7/dist-packages (from matplotlib>=2.1.0->pycocotools) (1.3.1)\n",
            "Requirement already satisfied: numpy>=1.11 in /usr/local/lib/python3.7/dist-packages (from matplotlib>=2.1.0->pycocotools) (1.19.5)\n",
            "Requirement already satisfied: python-dateutil>=2.1 in /usr/local/lib/python3.7/dist-packages (from matplotlib>=2.1.0->pycocotools) (2.8.1)\n",
            "Requirement already satisfied: cycler>=0.10 in /usr/local/lib/python3.7/dist-packages (from matplotlib>=2.1.0->pycocotools) (0.10.0)\n",
            "Requirement already satisfied: six>=1.5 in /usr/local/lib/python3.7/dist-packages (from python-dateutil>=2.1->matplotlib>=2.1.0->pycocotools) (1.15.0)\n"
          ],
          "name": "stdout"
        }
      ]
    },
    {
      "cell_type": "code",
      "metadata": {
        "id": "N2YxNg_6ftEC",
        "colab": {
          "base_uri": "https://localhost:8080/"
        },
        "outputId": "cae8e2d1-def6-422d-d4ee-8594143c1bfd"
      },
      "source": [
        "#fixed version of tqdm output for Colab\n",
        "!pip install --force https://github.com/chengs/tqdm/archive/colab.zip\n",
        "#IGNORE restart runtime warning, it is indeed installed\n",
        "#missing a few extra packages that we will need later!\n",
        "!pip install efficientnet_pytorch\n",
        "!pip install tensorboardX"
      ],
      "execution_count": null,
      "outputs": [
        {
          "output_type": "stream",
          "text": [
            "Collecting https://github.com/chengs/tqdm/archive/colab.zip\n",
            "\u001b[?25l  Downloading https://github.com/chengs/tqdm/archive/colab.zip\n",
            "\u001b[K     | 235kB 6.7MB/s\n",
            "\u001b[?25hBuilding wheels for collected packages: tqdm\n",
            "  Building wheel for tqdm (setup.py) ... \u001b[?25l\u001b[?25hdone\n",
            "  Created wheel for tqdm: filename=tqdm-4.28.1-py2.py3-none-any.whl size=47868 sha256=a674444edd275e43cdf27cd4665b2be6237274828beeb0a37b2bba890a794ff3\n",
            "  Stored in directory: /tmp/pip-ephem-wheel-cache-_0a3d6b_/wheels/41/18/ee/d5dd158441b27965855b1bbae03fa2d8a91fe645c01b419896\n",
            "Successfully built tqdm\n",
            "\u001b[31mERROR: spacy 2.2.4 has requirement tqdm<5.0.0,>=4.38.0, but you'll have tqdm 4.28.1 which is incompatible.\u001b[0m\n",
            "\u001b[31mERROR: fbprophet 0.7.1 has requirement tqdm>=4.36.1, but you'll have tqdm 4.28.1 which is incompatible.\u001b[0m\n",
            "Installing collected packages: tqdm\n",
            "  Found existing installation: tqdm 4.41.1\n",
            "    Uninstalling tqdm-4.41.1:\n",
            "      Successfully uninstalled tqdm-4.41.1\n",
            "Successfully installed tqdm-4.28.1\n",
            "Collecting efficientnet_pytorch\n",
            "  Downloading https://files.pythonhosted.org/packages/4e/83/f9c5f44060f996279e474185ebcbd8dbd91179593bffb9abe3afa55d085b/efficientnet_pytorch-0.7.0.tar.gz\n",
            "Requirement already satisfied: torch in /usr/local/lib/python3.7/dist-packages (from efficientnet_pytorch) (1.8.0+cu101)\n",
            "Requirement already satisfied: numpy in /usr/local/lib/python3.7/dist-packages (from torch->efficientnet_pytorch) (1.19.5)\n",
            "Requirement already satisfied: typing-extensions in /usr/local/lib/python3.7/dist-packages (from torch->efficientnet_pytorch) (3.7.4.3)\n",
            "Building wheels for collected packages: efficientnet-pytorch\n",
            "  Building wheel for efficientnet-pytorch (setup.py) ... \u001b[?25l\u001b[?25hdone\n",
            "  Created wheel for efficientnet-pytorch: filename=efficientnet_pytorch-0.7.0-cp37-none-any.whl size=16031 sha256=559205a18940b881ee220bd9ba5c497679af79317d7aefbc7b0d8f71a6c6fe60\n",
            "  Stored in directory: /root/.cache/pip/wheels/e9/c6/e1/7a808b26406239712cfce4b5ceeb67d9513ae32aa4b31445c6\n",
            "Successfully built efficientnet-pytorch\n",
            "Installing collected packages: efficientnet-pytorch\n",
            "Successfully installed efficientnet-pytorch-0.7.0\n",
            "Collecting tensorboardX\n",
            "\u001b[?25l  Downloading https://files.pythonhosted.org/packages/af/0c/4f41bcd45db376e6fe5c619c01100e9b7531c55791b7244815bac6eac32c/tensorboardX-2.1-py2.py3-none-any.whl (308kB)\n",
            "\u001b[K     |████████████████████████████████| 317kB 7.5MB/s \n",
            "\u001b[?25hRequirement already satisfied: protobuf>=3.8.0 in /usr/local/lib/python3.7/dist-packages (from tensorboardX) (3.12.4)\n",
            "Requirement already satisfied: six in /usr/local/lib/python3.7/dist-packages (from tensorboardX) (1.15.0)\n",
            "Requirement already satisfied: numpy in /usr/local/lib/python3.7/dist-packages (from tensorboardX) (1.19.5)\n",
            "Requirement already satisfied: setuptools in /usr/local/lib/python3.7/dist-packages (from protobuf>=3.8.0->tensorboardX) (54.1.2)\n",
            "Installing collected packages: tensorboardX\n",
            "Successfully installed tensorboardX-2.1\n"
          ],
          "name": "stdout"
        }
      ]
    },
    {
      "cell_type": "code",
      "metadata": {
        "id": "QK73cnbNcMey",
        "colab": {
          "base_uri": "https://localhost:8080/"
        },
        "outputId": "6cc65162-0eab-4feb-8e86-6f69ee0fe8e4"
      },
      "source": [
        "#fresh curl courtesy of roboflow.ai, outputing our dataset in Coco Json format\n",
        "\n",
        "!curl -L [YOUR-LINK-HERE] > roboflow.zip; unzip roboflow.zip; rm roboflow.zip"
      ],
      "execution_count": null,
      "outputs": [
        {
          "output_type": "stream",
          "text": [
            "  % Total    % Received % Xferd  Average Speed   Time    Time     Time  Current\n",
            "                                 Dload  Upload   Total   Spent    Left  Speed\n",
            "100   888  100   888    0     0   1385      0 --:--:-- --:--:-- --:--:--  1385\n",
            "100 78.6M  100 78.6M    0     0  50.7M      0  0:00:01  0:00:01 --:--:--  111M\n",
            "Archive:  roboflow.zip\n",
            " extracting: README.dataset.txt      \n",
            " extracting: README.roboflow.txt     \n",
            "   creating: test/\n",
            " extracting: test/0b47311f426ff926578c9d738d683e76_jpg.rf.0b55f43ac16aa65c889558d8ea757072.jpg  \n",
            " extracting: test/1c0060ef868bdc326ce5e6389cb6732f_jpg.rf.9ce88078ea356949f4ab7ad9cfdfc62d.jpg  \n",
            " extracting: test/2f6fb003bb89cd401322a535acb42f65_jpg.rf.91ad9df05bd1f86bab67c8368ae5e4ad.jpg  \n",
            " extracting: test/410993714e325a1de3e394ffe860df3a_jpg.rf.519bf0fdbd5e38cd44cae1cfebc98536.jpg  \n",
            " extracting: test/4e3117459d759798537eb52cf5bf534d_jpg.rf.5b99421bf416463a8c75cfd07f8a68d1.jpg  \n",
            " extracting: test/5a35ba2ec3e0d0b2b12b1758a8ac29aa_jpg.rf.a907af85301c729635d6ab1c31eb31b2.jpg  \n",
            " extracting: test/654bb8835258b26c466b1c19893df451_jpg.rf.95aad22d4dd31ab256cb2bcff02a34dd.jpg  \n",
            " extracting: test/685b860d412b91f5d4f7f9e643b84452_jpg.rf.5ba8dc0b5d2585d01b28089debd42cd6.jpg  \n",
            " extracting: test/73a38a5c8f8f1b09f093f304660d5326_jpg.rf.2d2fa2f4b419d9f2a57fb82d38d8bc6b.jpg  \n",
            " extracting: test/749e9074a77f8d34d86e2218f26cdab4_jpg.rf.8079f8abd9f24ec16e76fcbf18489f46.jpg  \n",
            " extracting: test/7a34d8620235048917b28bcfd3b5572b_jpg.rf.71653deb6fe88ad472dabea12353373d.jpg  \n",
            " extracting: test/8ff752f9ed443e6e49d495abfceb2032_jpg.rf.c3e91277eea99c26328e39a6f0285189.jpg  \n",
            " extracting: test/IMG_0159_JPG.rf.1cf4f243b5072d63e492711720df35f7.jpg  \n",
            " extracting: test/IMG_0169_JPG.rf.b1530b71278953ad465d06863135c71e.jpg  \n",
            " extracting: test/IMG_0170_JPG.rf.6e336797b63833d78997207d352a44fc.jpg  \n",
            " extracting: test/_annotations.coco.json  \n",
            " extracting: test/a3863d0be6002c21b20ac88817b2c56f_jpg.rf.e421134b139d57e02e7df9468a35c1fb.jpg  \n",
            " extracting: test/b4ff4132c8c85da97d8bf9a2a4ed3e3d_jpg.rf.51d1d3e2f2ae5b116c7daf5a304e75ad.jpg  \n",
            " extracting: test/b526b661a33ff481231d1342aff2a266_jpg.rf.b63c85ea45c4e3a665915fddee8c76f9.jpg  \n",
            " extracting: test/b9402881fa580d0eb8b9b98845417550_jpg.rf.087d716cdfdd9cf2cb65b437af716d4d.jpg  \n",
            " extracting: test/c4943d83c06a12ad5e0399d19514a4ca_jpg.rf.8b0040b3b68009f6f700ea28fb1aa491.jpg  \n",
            " extracting: test/c5a012dfa72816098d23fc8baee67834_jpg.rf.e3f72193f30138545bf762265f30083f.jpg  \n",
            " extracting: test/cf4769d0586df6b3fb0dc618d9f8abe6_jpg.rf.326565beb891e3656f7083109897a48b.jpg  \n",
            " extracting: test/cfc306bf86176b92ffc1afbb98d7896f_jpg.rf.a3779da7c72dfa583f9fffa23c231beb.jpg  \n",
            " extracting: test/d7887071e972604ddf5940d8eb2702e7_jpg.rf.9e1760bfa031e0f1b9ec48b6c0448994.jpg  \n",
            " extracting: test/e0d38d159ad3a801d0304d7e275812cc_jpg.rf.fa0bb8160816a373df824349a24a11e7.jpg  \n",
            " extracting: test/e4147f3d8819fc5d67a9f72596bd9e47_jpg.rf.ff3718b0109da4fea85bf6ff5631104c.jpg  \n",
            " extracting: test/e4583d082076b2b549b3736ad1b193c9_jpg.rf.be7ed36bb2bee36cf4edad46fdd4ec75.jpg  \n",
            " extracting: test/f1a24b6bb778ee11ba33687415aa84f2_jpg.rf.6e35192bbbb13f887540067e07d5d660.jpg  \n",
            " extracting: test/fdcd6ada676799da8a870f58fdf548db_jpg.rf.54abced68347da874d25c5d3886d3c4a.jpg  \n",
            "   creating: train/\n",
            " extracting: train/00bc0cacffdebe6b11bdeec56f63ee49_jpg.rf.fbcc3af401eca6bf01b4d031af33c1fc.jpg  \n",
            " extracting: train/0115e4df73475b550e5c6f7a88b2474f_jpg.rf.c759321c26b9bc9c38b31cd49533d350.jpg  \n",
            " extracting: train/02f0931b536dfba10affc3231a3d64fb_jpg.rf.3a714622550c2311f7843cd103a50be3.jpg  \n",
            " extracting: train/0301b7f9ed4d5ba503fda79fc4370c29_jpg.rf.fbdf213f256c973bcb79f186728a898f.jpg  \n",
            " extracting: train/03886821377011fec599e8fa12d86e89_jpg.rf.bca01af1df978ad9092f057443798ad0.jpg  \n",
            " extracting: train/03d3ff4582c8125d69c19a72f846bec8_jpg.rf.c4c2b8da2df7fad6565ec5a1ab9453a2.jpg  \n",
            " extracting: train/040f2bcba5afce3afafdd5bbf36d2ca5_jpg.rf.6e3358605c2734735af18f31e571692c.jpg  \n",
            " extracting: train/04aed88a8d23cf27e47806eb23948495_jpg.rf.985c4b231ab28487d4345ab040afb94c.jpg  \n",
            " extracting: train/055b79dd8db4c43e1a23be6095aaf624_jpg.rf.67a8ff4aee8a2f00af03b3f98977c676.jpg  \n",
            " extracting: train/05de676d5078dc0a13796f3f627993ef_jpg.rf.0a8e65da4f29d2a28325d3f020988eaf.jpg  \n",
            " extracting: train/06770ce99d4866165c0dfb104179c361_jpg.rf.d8685d4639672391538d33e57ff87a85.jpg  \n",
            " extracting: train/0798bfb058da59d189c1bfadcf814f29_jpg.rf.4b02423be86fa6dc14a4913de966a5dd.jpg  \n",
            " extracting: train/0b4ba28f0c759a11750a6430649b52e3_jpg.rf.c840c64b42f1edd63fd63024fed5ec8b.jpg  \n",
            " extracting: train/0cf670506bf9e0fe587647cd62caa232_jpg.rf.411e40b679800ecff1e2c440035e3722.jpg  \n",
            " extracting: train/0d9dbf62d5ee42b92bf55197bba4254d_jpg.rf.d6c9eae5e5bed8f41ba7302bcd00064e.jpg  \n",
            " extracting: train/104ec0199cb67e1a359b1b0845ee66f3_jpg.rf.be5abecc546e16851c415aaaa6119d2d.jpg  \n",
            " extracting: train/13106bbc80a01cc413c2ab5052d2ec25_jpg.rf.c0f851bdf9bd534e5d972ecf341aedb6.jpg  \n",
            " extracting: train/1595777dfa66e954ae23655743e24809_jpg.rf.ce144eded98c26dadbeca8e80df31963.jpg  \n",
            " extracting: train/1728cd731489df8bb8e0396e178fe393_jpg.rf.19f2e7a6596a0e98b9279154f1a31075.jpg  \n",
            " extracting: train/1877a28e4c5f5c1ea68aca66f4e85d95_jpg.rf.263a83e7c95a2a7b3df541c43f3bd3f3.jpg  \n",
            " extracting: train/196829feb704a34a4e471155f14bdd80_jpg.rf.9490ff7a9097c948107e432f3934b128.jpg  \n",
            " extracting: train/1a530d578f3f0bf3497bfeff3d953025_jpg.rf.e666096a1e6aef9c410fe0a5caff68a4.jpg  \n",
            " extracting: train/1a8a4abcba7c4ead35c01f05b9fae8e5_jpg.rf.8e60639ed4cbd253966be89b5a242834.jpg  \n",
            " extracting: train/1b4ccdf7d5ff45dc6c3885243bde5af2_jpg.rf.3ad9dc5fdd86856e5dc10e776f695818.jpg  \n",
            " extracting: train/22e74efb18b2d88fba63d25a61bf5f97_jpg.rf.72cda26bc69e8611a023dea25871bb26.jpg  \n",
            " extracting: train/23988893ef7381fece6d1ef32ef5428f_jpg.rf.c5e09b6b2996b5453a95e7facd4b4683.jpg  \n",
            " extracting: train/239c409d5c09b493fed01a70a3cda4bc_jpg.rf.a745921b91958a16c18c92b259aca5ea.jpg  \n",
            " extracting: train/247f9cf35a263dc7dd7886b187fd5480_jpg.rf.d77e03ae61805408a2c3f81f2217d3ca.jpg  \n",
            " extracting: train/254f92b18b2a81f88b85e7aed3cabc61_jpg.rf.a5d3749856054f63addc3c8282336d11.jpg  \n",
            " extracting: train/26d663ab5ffbec49f9dc8e592982cfd4_jpg.rf.b18d279ba4125fd80a1d12ac0e771a97.jpg  \n",
            " extracting: train/285d7c487a4e20ad832a74acb527b77f_jpg.rf.8925934caf22a38a85af6fd60453f502.jpg  \n",
            " extracting: train/292b0ddcacad7de06a628980954b6993_jpg.rf.c44c0299e2b2a05ba93ceadcd8e8568a.jpg  \n",
            " extracting: train/2c32afd520cc8bf076dfa5b6e2e1c4c1_jpg.rf.e9ad14fa3330976595bbd5162e607641.jpg  \n",
            " extracting: train/2ee0fd0963465ba29d8f27c6e605c55d_jpg.rf.416ed5a06f9bae303c04fb48287f167f.jpg  \n",
            " extracting: train/2fe75c34fd54e960146fb8b0ad8b3fd6_jpg.rf.9b91df20f1a711da331d1878d5687f13.jpg  \n",
            " extracting: train/300f80826bbb7dc4bf83e148614f2f77_jpg.rf.4a030c3f3f66357883fd1b9ae35cb892.jpg  \n",
            " extracting: train/3057eba7e9b0221ddbdc96a01f39ab79_jpg.rf.99cea19d83ccb4944b34919888dd0b71.jpg  \n",
            " extracting: train/3091c9b25d76e9cbd0af83ced9f354e5_jpg.rf.a96c979a388355dec7d4f832c0027f12.jpg  \n",
            " extracting: train/31419854b103ca6becc4cc394c449e95_jpg.rf.11b00b871f708bbe4d1421a0d9bc9daa.jpg  \n",
            " extracting: train/3161933dffedf8a859d6623a99492c53_jpg.rf.c58eabf189045a84e3c4389cebbcb9ec.jpg  \n",
            " extracting: train/3474d785b1b21d68163f56aa00a92bc9_jpg.rf.6bd40b33320a982005920d6d2d680c64.jpg  \n",
            " extracting: train/34ad1966ae7a17d4502ca141413ed8d2_jpg.rf.537d7ed41b558d70e1324f7ca1852ae0.jpg  \n",
            " extracting: train/36066ba85572ce99198f1a21c2c8bbff_jpg.rf.0b8c6b6b4c05ac617ba42138acb75757.jpg  \n",
            " extracting: train/3730ef213ac6aad431475a9ab28f349a_jpg.rf.f5f1fbb4d67fe92ce0d9acaa098cf5ac.jpg  \n",
            " extracting: train/3796db002cba7265bd32b0161ddd9127_jpg.rf.d39211b0dcef15258c6b963af339174e.jpg  \n",
            " extracting: train/37fe05bcf7d8568a9e55b569afdbccbd_jpg.rf.cf1a8be3a1ab89adc512c7969c0f1858.jpg  \n",
            " extracting: train/383c2ed7bbe2d327ab55a871db497c33_jpg.rf.52c7e74ebf109fe309e4b5c4def80ab7.jpg  \n",
            " extracting: train/389b4c47568c78c44df11dbb1377ffea_jpg.rf.cf94bc4ad387c2217d8cdf5402adcc1b.jpg  \n",
            " extracting: train/38f26ee82e38d332b2a831aa47bd363b_jpg.rf.69b9f7a3e7a10d7cdea51d7d7f01ba63.jpg  \n",
            " extracting: train/3914be0cea4aa8a6bbd1081ec3b034a7_jpg.rf.683bc62edd79c5db6b8b1dffcefc8d3f.jpg  \n",
            " extracting: train/3bab0eaaeb63a2ac9ae4942df4006a25_jpg.rf.1e2bc93d96300515f87808e09a5dd9a0.jpg  \n",
            " extracting: train/3e8fb24addda1a0945bd6b7777bc4018_jpg.rf.ec3432947d47720924cbb0dbf51956ba.jpg  \n",
            " extracting: train/446e75de1ffefc2115e79696bcf0e357_jpg.rf.3515dc451efed9a872f9268f3e9eb744.jpg  \n",
            " extracting: train/4667110b61b16e786673ed6126ccc35d_jpg.rf.8dd3ddf202a5cb346771cb4461f82884.jpg  \n",
            " extracting: train/479459fe5c8213a84fd55ba82f2670b1_jpg.rf.f481d875b91a96ca7982bfb5ba10e167.jpg  \n",
            " extracting: train/47e842dd95735a11cf92c0ddf1161193_jpg.rf.fa045b4cdedb6dbeea6226d5e5d58a5c.jpg  \n",
            " extracting: train/4807629b8df9c7eb4366b7feccd72e6a_jpg.rf.7d7f1b6fcb45b82fca8e8d6ce7ae33a9.jpg  \n",
            " extracting: train/4894f034a55eaa9252cd261a62b11d27_jpg.rf.5821daba2605c369ab52a6c1d3485b2a.jpg  \n",
            " extracting: train/48d3c59a99b2b5a5b9f1eb7d5ba63b60_jpg.rf.4360a206e865320f4f5dddea12152bf6.jpg  \n",
            " extracting: train/48e115dcbf1b3a67ca47a75a92da3f33_jpg.rf.b7f219d6adc0b92d43dc62bd98ee752b.jpg  \n",
            " extracting: train/4939035108d04ee672570a7cc937e270_jpg.rf.6fade1d3dc27011193c2fa8b9c10bd12.jpg  \n",
            " extracting: train/49c2afbbe5726160b289f7c0c62cdace_jpg.rf.018249b80783dd42d0d23496d4830902.jpg  \n",
            " extracting: train/49d365236ee4fb6bd982b0f00bff007e_jpg.rf.a2679c37a0afa53ab1a9394ff0585f46.jpg  \n",
            " extracting: train/49f78dc9aaeadd0c76ed2def75c358f3_jpg.rf.06d058407b83ba70ad2e41656d9d2195.jpg  \n",
            " extracting: train/4ae38537a74c5ed10d5223f8066659fc_jpg.rf.b8e4020f3f188e6ebe715200d8db0c27.jpg  \n",
            " extracting: train/4bf38c062fa7b5796d15ba90d6c3a456_jpg.rf.ca8cb7f5c79fb302acc4a6bd81e0b9a6.jpg  \n",
            " extracting: train/4d6b667ecbd41ebd603b38848366d9d0_jpg.rf.e51e6ab1c441b8766bf8503333a69db9.jpg  \n",
            " extracting: train/4d7820ad9fb4fe69d5168e1d7317dd02_jpg.rf.877766bf8a749843720f86abf3056207.jpg  \n",
            " extracting: train/4de23afff63bc169b4ebe547a9c9b692_jpg.rf.3c9bf54ca2de480c19e30d7808e4a2f6.jpg  \n",
            " extracting: train/4eb630d4dd38528dacf72355caf5c06d_jpg.rf.192a83d78be33d7b7f4a5bdc1b47702f.jpg  \n",
            " extracting: train/53de0674524ae6d77bdfff48136dec2a_jpg.rf.e3110b74dc7e779b42cf28f66c70a5d5.jpg  \n",
            " extracting: train/54a90aab8c73562975cc560d51a9d2d1_jpg.rf.27c69714af4c78fdd6f390a4def1e4a3.jpg  \n",
            " extracting: train/5758322233deed7ae7adc23536db2a4f_jpg.rf.8999db6b1f2c3f65d582bc066a6c55c5.jpg  \n",
            " extracting: train/5825608dccde6544eef91822136079d0_jpg.rf.7c4ac226ecdf109b9b74f91cefc46dde.jpg  \n",
            " extracting: train/59727dce26aaa6100078810b61404069_jpg.rf.d0c247bc8da0897e492a48e773adf35c.jpg  \n",
            " extracting: train/5a8433ec79c881f84ef19a07dc73665d_jpg.rf.2f0c3c38d635f03ea39475fd078c3414.jpg  \n",
            " extracting: train/5cecd3b3946aac5c713a51e0bd4617c9_jpg.rf.b0e3d523923d0224d5f5faa66949b7aa.jpg  \n",
            " extracting: train/5e71cb8d41c333a18e799ef0004b040c_jpg.rf.57a1424a00d13826fe3e771dd404ceff.jpg  \n",
            " extracting: train/614811e933a680fd6535ac8bf06bf530_jpg.rf.ace44d36688dfecc17409089f7d0720f.jpg  \n",
            " extracting: train/614aadadb4a7f5b475b027b8e11398ee_jpg.rf.e3506223ffe7f4878bc357cdc1f33cd2.jpg  \n",
            " extracting: train/61567b97353acc18ba9e8aac0f111326_jpg.rf.69222b87f379416d71b28d07b4914777.jpg  \n",
            " extracting: train/6179b463c8f503445e213b706d2a4de5_jpg.rf.8882e7b1020797df38ea13e02e43a69c.jpg  \n",
            " extracting: train/6403b91d63799cb9b5531c47b195d088_jpg.rf.77da8d8e3bc7557ac1396d597f5759c5.jpg  \n",
            " extracting: train/6589f4cfb37439d7d276f0d70f7ee1f0_jpg.rf.8d4dabde24fa1a51f62ebf8ae0ce02e6.jpg  \n",
            " extracting: train/65ba27557c78850168b1df70a3ce4ff7_jpg.rf.223d0d2c45a4796a00809534807bfea2.jpg  \n",
            " extracting: train/66f3c2c7c10a9263de9c6e056ba5c1b9_jpg.rf.9e391887b9da6213f12999e1628558bb.jpg  \n",
            " extracting: train/673bcd0d44f495fbe9dd88d5cacfceb3_jpg.rf.4c5902b014a2bdaf3057a3c74b6a44a2.jpg  \n",
            " extracting: train/675619f2c8078824cfd182cec2eeba95_jpg.rf.223c4b81b8fa7e3bd7a24577a10a5382.jpg  \n",
            " extracting: train/699edbacbfee5e6d4d6d2189bc88990a_jpg.rf.26706a6cf9de8ec15a6bdb7e53e6173c.jpg  \n",
            " extracting: train/6ba74e310dd824af891d057d674cedb9_jpg.rf.d5ce8eb38bcd1353757d902b6c07c670.jpg  \n",
            " extracting: train/6bb6f7cb96bf37230681d12ff7882f61_jpg.rf.f367c0f54253444f9c2f8f8968a1a47f.jpg  \n",
            " extracting: train/6f0a888f9e5aed9516e336fd04723ce1_jpg.rf.284ac83a4d78d901e17b6ca1f8d6222a.jpg  \n",
            " extracting: train/6f0de9b594de9f9b92c6a20daa51a28a_jpg.rf.bc6c392807dacf7a8a84cae9c09acd03.jpg  \n",
            " extracting: train/759a86e63667ca033255c4ab438dd392_jpg.rf.7ce77a0061d42d49bf91a4329cafdc59.jpg  \n",
            " extracting: train/76d01bada90581f55f1ae64c062cafcf_jpg.rf.d8d268060aa9f6fd260d483b10ac6a04.jpg  \n",
            " extracting: train/76dbe2ccf986a2a0d399d3d8a47279ad_jpg.rf.581770ac7f3816d67c2431339bc65592.jpg  \n",
            " extracting: train/76e118acf05a8ebe06957f8882cc06aa_jpg.rf.355e39cef189edb061cf20d6e59d42db.jpg  \n",
            " extracting: train/79e744a68d6e6f83be0a9e8761ea66a4_jpg.rf.433e4079f552b8e2c261a6a3052f30cd.jpg  \n",
            " extracting: train/7df16cd59fb40e0691948cc805e4801b_jpg.rf.c439322b6c3c711ba67ace0c0f3ebffe.jpg  \n",
            " extracting: train/7ee8d13861bdc45e40a7cfe190a8d8a6_jpg.rf.67d658f56e627e74416bc18ec92107c2.jpg  \n",
            " extracting: train/81f5c542ffe0f9eae4df59d29acbcced_jpg.rf.99b5d8d7a1f3fa6cbb6e9ecfb5e3d8b3.jpg  \n",
            " extracting: train/859e7157c6d544236a67463c08169b6e_jpg.rf.bdb4426cf64b8f8c1e1d693a1df74b76.jpg  \n",
            " extracting: train/8678864272a0a04c4c65ca96324105b4_jpg.rf.90118317e342f59a5e18a9c460e72a99.jpg  \n",
            " extracting: train/871597c145446cf58c1c2dd7db988864_jpg.rf.6cecb51bef82f71cd395832fa16411ba.jpg  \n",
            " extracting: train/889c420fb266b8d0e817306110042bda_jpg.rf.02d22a79820be51228296021ad0b6bbb.jpg  \n",
            " extracting: train/8967433350d3b3043902603430fccaab_jpg.rf.0e119efea84f75200b18702781a169ba.jpg  \n",
            " extracting: train/8bb72e70f0560095885586deba37a524_jpg.rf.436c6acb4c9d0a040b6a86ad0a41e770.jpg  \n",
            " extracting: train/8d6f722eadc015a393bd490f9b7a85e6_jpg.rf.85a7f0c7d2d1b7ce90664ff35b84fe8d.jpg  \n",
            " extracting: train/8d796de64b9eed1ffd5ebe550d4ca807_jpg.rf.bcadbba8ab4a943a30062047dd9951be.jpg  \n",
            " extracting: train/8dd12470c30e3b265e8933a6fee7ad28_jpg.rf.a583ec04d3044992cfd9acbebea7aa95.jpg  \n",
            " extracting: train/8de03901c64a80070048ead3fb0d32bd_jpg.rf.d4cd4d7336cee96c7c01731c6f3b81cd.jpg  \n",
            " extracting: train/8f84f1945fd993facc3368d13345f333_jpg.rf.3286223477d0f45d03a6a9854b7ff4a6.jpg  \n",
            " extracting: train/8ff64b3f770bfe96bdffc629efd16460_jpg.rf.f14ad67cdd66b17692929139aef233d6.jpg  \n",
            " extracting: train/9146a6989dac08f1769e677064ebfb49_jpg.rf.21c3f74a60d73237ceb25280df5cebe8.jpg  \n",
            " extracting: train/92992ff9c823e0420bf17e71db9ef4ef_jpg.rf.73292c1560eefbd1a84212b43be8d424.jpg  \n",
            " extracting: train/93557fc861304f7753089c244bc1e33e_jpg.rf.15d07a278e4c1061b2d99a2b95ff9921.jpg  \n",
            " extracting: train/969daa72bd7804ea1212e191820249b0_jpg.rf.9ac5120ab4af0484ace560bea2c39a7c.jpg  \n",
            " extracting: train/97aeb1f9b745a929e9ac0848acb53a1a_jpg.rf.a37313f9380bde8e4827749f1dba6d7c.jpg  \n",
            " extracting: train/9962a4d44388b9008aa0f466e4f4052c_jpg.rf.faa4d33a45e46b53fcc8f751377a8160.jpg  \n",
            " extracting: train/998222d9c93f1640829d4f0032dbf3e8_jpg.rf.28adf4b8b45dc5d0011897ab15e9419f.jpg  \n",
            " extracting: train/99ee6574b2a7afc0bb06269bbcf49a4c_jpg.rf.64986b73afba1223e13eadbd9b0fdb27.jpg  \n",
            " extracting: train/9a6b61a6d3b3e3ecddc201b097aa02d1_jpg.rf.d5534a244c0a9972da49c08b89f83f75.jpg  \n",
            " extracting: train/9c153a9c9798dab948d4260eb109b315_jpg.rf.8db7f32aeb3c84a69b2a7d79b921fc5b.jpg  \n",
            " extracting: train/9c5fb0c3cfd7b334a247cd87c139e8e6_jpg.rf.588e9ea4bfffb48edc0f99b7af98c96f.jpg  \n",
            " extracting: train/9d776e74e90c4f8092b060dd7567e2f8_jpg.rf.b70c4c285edf5789719b8f7bddac3ddc.jpg  \n",
            " extracting: train/9e943906fba1ec89edfacb2dd7976504_jpg.rf.aa1f7ea2f8c95e89aa701d9f87056330.jpg  \n",
            " extracting: train/9fc54a45feb5b01db8f6828d181fb075_jpg.rf.04e7c11036b566a522bc317e86e5ab6a.jpg  \n",
            " extracting: train/IMG_0166_JPG.rf.f228ddaecf7848a0520e929807b35af4.jpg  \n",
            " extracting: train/IMG_0167_JPG.rf.661ad368ce42cadb9dc497ceaa07e777.jpg  \n",
            " extracting: train/IMG_0291_JPG.rf.a72d476f25b25f6ef3f768e5876c2a55.jpg  \n",
            " extracting: train/IMG_0292_JPG.rf.dae866a073c030671cc199d0d06353e4.jpg  \n",
            " extracting: train/IMG_0294_JPG.rf.b7ae411904ff022e80b90f6267535f05.jpg  \n",
            " extracting: train/IMG_0295_JPG.rf.8abd802272b965c843eb1ecbc8df4abc.jpg  \n",
            " extracting: train/IMG_0296_JPG.rf.818119ea873100bb120049c72da67cbd.jpg  \n",
            " extracting: train/IMG_0297_JPG.rf.2609f7e3ad4d54b19aafc0623f5a8510.jpg  \n",
            " extracting: train/IMG_0298_JPG.rf.388fb04c02f369a0c79a524343fe590c.jpg  \n",
            " extracting: train/IMG_0299_JPG.rf.7d92f1ba0929b7fc5e77848b80148fc6.jpg  \n",
            " extracting: train/IMG_0317_JPG.rf.b9135e07e62170150fc67bc1f25b0d3c.jpg  \n",
            " extracting: train/IMG_0318_JPG.rf.37a8faa6e2f4efc18f2113466c1ec320.jpg  \n",
            " extracting: train/_annotations.coco.json  \n",
            " extracting: train/a20eb4bb3cea2e394cfcf9ed969b628e_jpg.rf.9d2528623e7939a30ec82e76cac3df47.jpg  \n",
            " extracting: train/a4028b2361ce7ead654a86b07ac39d52_jpg.rf.03a20a2a674a95ceb6c61a5e531e8ca6.jpg  \n",
            " extracting: train/a4ebf4c268d80c4fe329331ea981b3a1_jpg.rf.d7e764e24afbdced1e4f8848f249bdfc.jpg  \n",
            " extracting: train/a5c65b40e0be3480c0ecfacaab399a87_jpg.rf.667ef27bf19775d48f8acf8dad04fa26.jpg  \n",
            " extracting: train/a8847f8fe8eaaa1c97bf83027a901760_jpg.rf.116b33357951f46fbbe0d5437561f61b.jpg  \n",
            " extracting: train/a932287da44b9dfacd0d16a5c1d27923_jpg.rf.b0950400898d51ce08945ad5c770ab03.jpg  \n",
            " extracting: train/a9768de3fceeeae2618f362870fb9a88_jpg.rf.055c7088ca1c11c42bcafa4950f2572f.jpg  \n",
            " extracting: train/a9987cf6cc5c6545818ec294d4a5bb9b_jpg.rf.21f51fbefe01648bbbb01e0d207c3843.jpg  \n",
            " extracting: train/b0f3d66c8be13f5f6aa25b67a06bdcfa_jpg.rf.30cc54e5f0d02160a2da3f6da04a9653.jpg  \n",
            " extracting: train/b3b002461f1c6b432e22964549767e5f_jpg.rf.6164bf4eadfd3dcb7f7ee2a2bd0764c2.jpg  \n",
            " extracting: train/b5102d7f9740eee7754ed268becb2163_jpg.rf.28a72d037ac692cc90b96708b1b05316.jpg  \n",
            " extracting: train/b5bcde459ca36f0d1f3c20e751336672_jpg.rf.0c6010e1e0afa0ff49d14eef51b5e6c8.jpg  \n",
            " extracting: train/b79ae5b70de58089ead6e32b235e30d3_jpg.rf.68c670de3208dc56613dc9b9f65ec934.jpg  \n",
            " extracting: train/b7a8c7de4fe1382d69f58ac97e819b5c_jpg.rf.d3b1cfbb0c618d6afff8ea3b96c4d331.jpg  \n",
            " extracting: train/bb54af2f0b83b174aecc29328c8fa001_jpg.rf.38630287afd7ffe84cd9468138ab7485.jpg  \n",
            " extracting: train/bc5decab88861286dcf78a367b4377cb_jpg.rf.c3e51d3ab678f7b49912e57cfd3d161c.jpg  \n",
            " extracting: train/beb11566e59775b61f0ca369952067cc_jpg.rf.726ac46a167828c2e34ad77f7abf895e.jpg  \n",
            " extracting: train/c0d68e012bb93c14bc333fc1d5e52621_jpg.rf.47fcf95dac60ca78902fc86cca7eab28.jpg  \n",
            " extracting: train/c3e9e81ba1540aae7961a4d8d96600ba_jpg.rf.deda5846f9437d81262d2e25f5808e36.jpg  \n",
            " extracting: train/c46bf04050a2a9323dfe563e8813602f_jpg.rf.634c5d0d551ab2b7c2554e4ce3c6aacb.jpg  \n",
            " extracting: train/c733616ab773817dd1a356dbbdf2ee33_jpg.rf.02fcb1d459e55b398bd4cc4edbd3bd10.jpg  \n",
            " extracting: train/c76c79e40bd9839a05237934cfa89ca3_jpg.rf.747f4292a1bb980bc392a787a773a0f1.jpg  \n",
            " extracting: train/c7890b749d14d3488066cbdfac4620fd_jpg.rf.eed3f658d1c9c65acfbcad5219f70716.jpg  \n",
            " extracting: train/ca869123d8a0cbcc6e54f4a445e5a78a_jpg.rf.de66695493176269696ee36a61dee1dc.jpg  \n",
            " extracting: train/cae099fe41d6aa30033d71e433c33c8d_jpg.rf.e346e0084281a8f6b63bbfeb576d1fc0.jpg  \n",
            " extracting: train/ce54969567273b9b8a275812ff56e16c_jpg.rf.af61be71f696438c30dc9bd87d299bd6.jpg  \n",
            " extracting: train/cf2784fa97151d5316b2961b1e62dc45_jpg.rf.d728eed31f107b29e913a6b2ad1f751a.jpg  \n",
            " extracting: train/d079f4e77b2445abceca7534356db743_jpg.rf.f7ee65ab8c16d3c9028443faaaf40ee2.jpg  \n",
            " extracting: train/d0cc2420bce5b14dfd39e55dc3737e57_jpg.rf.3914cdc1a02f2972d5316062da6f285f.jpg  \n",
            " extracting: train/d29148a2233950a7777285281cbfccff_jpg.rf.d23b4f180eb3b539d7ed88e2f4beb2cd.jpg  \n",
            " extracting: train/d33c33de41dbe1a95a43212c58fd12b7_jpg.rf.cdd968f5b7c71aa6ef1c732c4079c262.jpg  \n",
            " extracting: train/d3a4e1b8f13ef89f419251f5c5839d0d_jpg.rf.0c0623ed3bb8531690b2fbc7822d57bd.jpg  \n",
            " extracting: train/d415969922564f317be0d1433330626f_jpg.rf.1271853558336c8d9c5414b3a0466b8f.jpg  \n",
            " extracting: train/d494cb268ad7f9f55587de138edc1dc4_jpg.rf.b1bd99204b2ceacbda5bafa452a4d732.jpg  \n",
            " extracting: train/d67b5b9e900409b050dd9bd594f90709_jpg.rf.e07557fe78a4af8f4213b7c50edcc48e.jpg  \n",
            " extracting: train/d795f84f39716798482fb2937868ed8a_jpg.rf.57b7e9ee15d277b2694fdb94549a1487.jpg  \n",
            " extracting: train/d9acc69c5d57623cda22786e309201c9_jpg.rf.d37b5a883d97f31d33db5281c8ae0395.jpg  \n",
            " extracting: train/dd6b5c3cb2d7e77f38f1dfeb2bff0431_jpg.rf.f1dd1da676bf315e684a8e3a2ebbb82c.jpg  \n",
            " extracting: train/ddad9dc4d945006d66f5349d64498559_jpg.rf.cbac3a32273efcef96c08a2b0df10485.jpg  \n",
            " extracting: train/de60ba81aa78387928e4bdc11f3be301_jpg.rf.0cd8adb84fce0b83ee30a5fbdb4c1c4b.jpg  \n",
            " extracting: train/e40003d4bbcdac7196b9502bfe2fb6ed_jpg.rf.a92a3ed23c63f90ce84648a564f2a287.jpg  \n",
            " extracting: train/e6e3a2ff2c75970490079f00136885ad_jpg.rf.276c0ec51830ae8741a3e31c7f703638.jpg  \n",
            " extracting: train/e79deba8fe520409790b601ad61da4ee_jpg.rf.8cd55f2548d15a4c111f0a980d3ee4fe.jpg  \n",
            " extracting: train/e8480d7fb9881d8a0e88b7be4d103f6d_jpg.rf.eba2e44135388fd198939d843dca7e13.jpg  \n",
            " extracting: train/ea799d77875c399618c45cd9409f34ee_jpg.rf.077cbf5dc80bdc0bf0f59ddd6ce6f69e.jpg  \n",
            " extracting: train/eb9e7928e756c3cf9164e7afc08c4653_jpg.rf.77ace05280bcb7d839ab4cf9d586dfa2.jpg  \n",
            " extracting: train/ec4c30d88ecc70b6a3e76dbd9b17324a_jpg.rf.34d31473728f2b9a68bb71a3f40e1d6f.jpg  \n",
            " extracting: train/ec5ab1930d6aa16fff2582b48f82cada_jpg.rf.3164acc59bd3a1cade16f72b1f6e368a.jpg  \n",
            " extracting: train/edd285915356686fb53fb52c1ded0e53_jpg.rf.5104c70947989766361c9335d2f39d37.jpg  \n",
            " extracting: train/ef1d425fd5370fbf8b7adea43b755304_jpg.rf.4d4fe734367a2a5905da11a49184c767.jpg  \n",
            " extracting: train/f02d615907c77dc15f02bd1372e4398f_jpg.rf.714211d55651f47944d10b81622f1d39.jpg  \n",
            " extracting: train/f041d3171dfe3137390c85fc5437e447_jpg.rf.21a114abb3e64a6a241b6f7bdd0d8b9a.jpg  \n",
            " extracting: train/f1ea0167087976926d4fe0aa36b961ce_jpg.rf.245c4d4e37e289bbd69b90b60e6ee9bc.jpg  \n",
            " extracting: train/f2672cdc28767484b556da3ab6f1003e_jpg.rf.4397bb19b736490287e271bcf760ca16.jpg  \n",
            " extracting: train/f3302c754c6fd42130014199ee327d10_jpg.rf.0bef2494f0a7ebf9afda6b7688cf68b0.jpg  \n",
            " extracting: train/f3a5df526393445c6e2d38f66c1f5c27_jpg.rf.5c9ad833e2df809f6a0107ca7dd020ab.jpg  \n",
            " extracting: train/f52e1873b8583f8bf4f7ddf6e9649f07_jpg.rf.48248922519cd3c8f36539bc09dd8528.jpg  \n",
            " extracting: train/f587402be410b424bcbbac06e1dc6162_jpg.rf.a88d82401d5b97453bc047b92048ca39.jpg  \n",
            " extracting: train/f9a9a175f26d4b26bca3a5338cc1405e_jpg.rf.ec1a436f709ef7dc2e4f1fd3c9f6355e.jpg  \n",
            " extracting: train/fa3cf2724c1648a8822b59ac0759475f_jpg.rf.8b23c032ccc0fd6484f9d390cb6a2b9c.jpg  \n",
            " extracting: train/fa4e2b9a8cf58f405f69a56c662834f2_jpg.rf.9c9fb84a36bdfc518396a26a21758f9c.jpg  \n",
            " extracting: train/fb586797e8ad818c7e3e3a6411f73d84_jpg.rf.ad548be54dbd7087c07afbaa78746786.jpg  \n",
            " extracting: train/fc9d7bc0453cb3324406401c00224d30_jpg.rf.da31aaeddba327ec61dea2b7f515e62b.jpg  \n",
            "   creating: valid/\n",
            " extracting: valid/05ad7223827a29a8283f6c4b2490f52f_jpg.rf.5fb70e6e53b997c3015533194ea8e033.jpg  \n",
            " extracting: valid/0b2252c93c53e1b2e61d485b22328e2e_jpg.rf.78aea9d88ee5694eb75e7f05569e112a.jpg  \n",
            " extracting: valid/0c09b79cff39932c59ecc745dd827906_jpg.rf.a9966fa6e4e9a3da8246cd0e44c0e0d1.jpg  \n",
            " extracting: valid/0d9afc3d23392c3958f53d7fe71fd2f1_jpg.rf.38c69d3df99272f2d3c77c742ab1f50e.jpg  \n",
            " extracting: valid/15cc23c777b00d0e123f9df468f2852b_jpg.rf.a3f074f0d6beb76eb98cc6fa73ddce77.jpg  \n",
            " extracting: valid/18742c87a03866e042c5659ba04d1180_jpg.rf.ec481f84c7faf0dda7e20e721db5f89f.jpg  \n",
            " extracting: valid/1b7c1c9570e900f75eb974f99cbb3c60_jpg.rf.8f006641b9236815f6e4d16935747866.jpg  \n",
            " extracting: valid/1be2a621f309c7482e9a79ad5b23ecbe_jpg.rf.5cb426a7e2f8a4ef4c943f11bd62487b.jpg  \n",
            " extracting: valid/26fa37995fa5b18ec40e0a94e6d91104_jpg.rf.10d82beac7ac6234df91112c0276d4df.jpg  \n",
            " extracting: valid/302e7c10664be32b4fc000452149027c_jpg.rf.ec2e113c3ea11a78125c55887b60571f.jpg  \n",
            " extracting: valid/31b83afa654d5dd874c3f0111126ab7f_jpg.rf.755be19c63d3757e2127cc92d7b69869.jpg  \n",
            " extracting: valid/3312e3bb60e338e9c1a614f0f8960dd8_jpg.rf.effbdd6c0e43bd53a7e92240c0ba326b.jpg  \n",
            " extracting: valid/33b66ede234715fb46db40b33c4e26c1_jpg.rf.d59867e5d4f15a6cc37d2cc499b365d2.jpg  \n",
            " extracting: valid/3aafc2d38807dddd1b43a54cb70f500d_jpg.rf.7a1acfea51aff18b554e96c49beafb78.jpg  \n",
            " extracting: valid/3baf85c957b9d28a16c0b65cb2ef0d29_jpg.rf.ee68e051c8a61b8784b87686d828cf59.jpg  \n",
            " extracting: valid/3e0c67f38992fe16dfc163f7f5336263_jpg.rf.b541cee0030fd0edc7be9d4fed6a6abc.jpg  \n",
            " extracting: valid/424d6506342fa2471e71586675ed092c_jpg.rf.43baba77beb2f5588d5cc05ee7c081ec.jpg  \n",
            " extracting: valid/495019998442ddf85b59e387d4916cd3_jpg.rf.9d9d8ec43f8494e2bfe6603811f7b3de.jpg  \n",
            " extracting: valid/4b8f93069270a9f7bb523518a5088b9e_jpg.rf.ab3fbcd4d3542cb5bbb0b748053a358d.jpg  \n",
            " extracting: valid/55be99616328f83dcbfe8c18e1387c0e_jpg.rf.704f9d21a024a31afa058f00ea6d6ca9.jpg  \n",
            " extracting: valid/578029c06939a788cd5606ad17b49fb9_jpg.rf.6283a8b113fdfc84bf9f255a0df447c7.jpg  \n",
            " extracting: valid/57d1d1fb35ed875f9e770660bb03b6d7_jpg.rf.d3b0acfb689144d051a42d31205c791c.jpg  \n",
            " extracting: valid/5c19d3260762f5daa632d952bc0074d6_jpg.rf.9b21b95cd0d470a8c46ab298906e3745.jpg  \n",
            " extracting: valid/64061fd2e0e35bdf9ac4681eddf5fa2a_jpg.rf.7a9c55e842357fc0f8ed468afbdd4baa.jpg  \n",
            " extracting: valid/6859628a422c1b72be8b074841cd943e_jpg.rf.f580f9a20fdbf50ca1ab256112d11fb0.jpg  \n",
            " extracting: valid/6a41b6c8201604216ad196f842c6a2c6_jpg.rf.465cabf5502d8514f08087f183c3cb2a.jpg  \n",
            " extracting: valid/6e2dd4604b3a51d9be11b8809ed03803_jpg.rf.f6282009812141649ada9f73af2eee00.jpg  \n",
            " extracting: valid/73e6a751c50604d017541c11b28d8417_jpg.rf.81ee4214a166fd5de37da0bbfc5ef06c.jpg  \n",
            " extracting: valid/793c79d55c8a252b7a954d074b1d6498_jpg.rf.a9478a33f4491269886d3d92028cd059.jpg  \n",
            " extracting: valid/7e862b85e33cd247ed66447d129e5fb4_jpg.rf.d53dc427754d44718c33bb6291012ad2.jpg  \n",
            " extracting: valid/7e97f49e613a59a70b833e4c0b2c1c04_jpg.rf.e3d8cc08e136002cec4bf8350be37c47.jpg  \n",
            " extracting: valid/86afe95de5471af5cef08e6ae4d9acbb_jpg.rf.89e9e862697f76853ecd9142667e3aa7.jpg  \n",
            " extracting: valid/8ec14357f5f18fb98db86e0283623150_jpg.rf.dc1f65d43628062fda98946db19045ef.jpg  \n",
            " extracting: valid/9453c2097cb4ccc676e273939894b3da_jpg.rf.1b3941e5bbd87526c743197a542248ec.jpg  \n",
            " extracting: valid/97ed198b00b5491747d3b425df8e7096_jpg.rf.d4830d71ceb565084b77c6d7b7a09699.jpg  \n",
            " extracting: valid/IMG_0293_JPG.rf.f29eab19f33f4c8ef04f9188d7ff1de7.jpg  \n",
            " extracting: valid/IMG_0310_JPG.rf.6cf8e3d4550948ac9e5efafc66f1cdfd.jpg  \n",
            " extracting: valid/IMG_0311_JPG.rf.52d3ca104e59d1fcc846258e946e7dbd.jpg  \n",
            " extracting: valid/IMG_0319_JPG.rf.4ebd9c3d828dfa381411157d7b4ad4da.jpg  \n",
            " extracting: valid/IMG_0320_JPG.rf.63f3739202c30a04a1630bba0266fc4f.jpg  \n",
            " extracting: valid/_annotations.coco.json  \n",
            " extracting: valid/abd65798d9952a27e087710eb8bddf32_jpg.rf.99eb394f3994df8afcc2a5778016d1ec.jpg  \n",
            " extracting: valid/aec1aa6773dbbe004554f405cdef2bea_jpg.rf.748dcb4e54783f3bceb3c341d9eee5f1.jpg  \n",
            " extracting: valid/bb0de9761d16eee258ae09d8de32002c_jpg.rf.c11059695bd371034e76c84073775603.jpg  \n",
            " extracting: valid/c1f800417bc42263d141b5ed785e7707_jpg.rf.337b6ba78718cfc7228c7484c4a361f3.jpg  \n",
            " extracting: valid/c20ca9283ea51ac7707905894a7da703_jpg.rf.d23d9f998440d64312d949fdcdfa1b7d.jpg  \n",
            " extracting: valid/c5172afbdad90854b3d0f21a923c0c69_jpg.rf.f7da3947b94ff2b838d32b8fcd660104.jpg  \n",
            " extracting: valid/ca6484c259f286c5bdf1afefc868b753_jpg.rf.7aa1f1409074d5b0cbd19b20593cdcb5.jpg  \n",
            " extracting: valid/d114edc5cb4cae0ceb2f152afd15f57d_jpg.rf.047eea1174ccf45e4a09a9449a5611c0.jpg  \n",
            " extracting: valid/d3b9309d00a2b671407b918ea867a935_jpg.rf.cbc8557646c90e2b2764e2746a672acd.jpg  \n",
            " extracting: valid/d4f7caf01359b9a757c930140f746fad_jpg.rf.2b5cb1a63d242e69953a94e870bf8624.jpg  \n",
            " extracting: valid/d6e283a49b0395a6d5867c9e98e32045_jpg.rf.2571cdc4c5d218d1f8ecd4becc57c5ce.jpg  \n",
            " extracting: valid/d9ef98145d7d35393c75a51331a20e2c_jpg.rf.ff2352acde10b0f0eff169f22f55a1ce.jpg  \n",
            " extracting: valid/e1616dc9962fed075576ac4ea3553f51_jpg.rf.ad4a845557489e0b87666d3a34abd929.jpg  \n",
            " extracting: valid/e53bf8a0e692a4ccd5f1dc2bc19e7751_jpg.rf.181fa15089d35840f7c13edd8e22b1f5.jpg  \n",
            " extracting: valid/e7edc4f1b8d3cc1069b96d0358e066c9_jpg.rf.9dbe733e3efac3860d9ec4bf94e8674a.jpg  \n",
            " extracting: valid/ec418cafd39d7c5a69cc0642a08b2a08_jpg.rf.4d5b99fb671fd8cd28d64ed4f0293535.jpg  \n",
            " extracting: valid/eca42980852e6c5db10ee84aac23f9c6_jpg.rf.33b03eede8db8237276d8c962e735f2b.jpg  \n",
            " extracting: valid/fb7d97265a22bb1c1f908dadc6f9e7dc_jpg.rf.ebf5c65b740623772c9bd7490f81fc37.jpg  \n"
          ],
          "name": "stdout"
        }
      ]
    },
    {
      "cell_type": "code",
      "metadata": {
        "id": "nspgbsjTdSjZ",
        "colab": {
          "base_uri": "https://localhost:8080/"
        },
        "outputId": "abb06877-c387-4783-8f6b-edf440eb037f"
      },
      "source": [
        "#let's take a look at our directory\n",
        "#notice the data came down in train, valid, test, splits - this is pre set during the dataset upload process\n",
        "%ls"
      ],
      "execution_count": null,
      "outputs": [
        {
          "output_type": "stream",
          "text": [
            "\u001b[0m\u001b[01;34mMonk_Object_Detection\u001b[0m/  README.roboflow.txt  \u001b[01;34mtest\u001b[0m/   \u001b[01;34mvalid\u001b[0m/\n",
            "README.dataset.txt      \u001b[01;34msample_data\u001b[0m/         \u001b[01;34mtrain\u001b[0m/\n"
          ],
          "name": "stdout"
        }
      ]
    },
    {
      "cell_type": "code",
      "metadata": {
        "id": "4tZCaH-bdUnP",
        "colab": {
          "base_uri": "https://localhost:8080/"
        },
        "outputId": "2ab203f8-e570-49b8-f817-e46e438f2e2c"
      },
      "source": [
        "#let's take a peak in train\n",
        "#jpg images and some coco json annotations\n",
        "%ls train"
      ],
      "execution_count": null,
      "outputs": [
        {
          "output_type": "stream",
          "text": [
            "00bc0cacffdebe6b11bdeec56f63ee49_jpg.rf.fbcc3af401eca6bf01b4d031af33c1fc.jpg\n",
            "0115e4df73475b550e5c6f7a88b2474f_jpg.rf.c759321c26b9bc9c38b31cd49533d350.jpg\n",
            "02f0931b536dfba10affc3231a3d64fb_jpg.rf.3a714622550c2311f7843cd103a50be3.jpg\n",
            "0301b7f9ed4d5ba503fda79fc4370c29_jpg.rf.fbdf213f256c973bcb79f186728a898f.jpg\n",
            "03886821377011fec599e8fa12d86e89_jpg.rf.bca01af1df978ad9092f057443798ad0.jpg\n",
            "03d3ff4582c8125d69c19a72f846bec8_jpg.rf.c4c2b8da2df7fad6565ec5a1ab9453a2.jpg\n",
            "040f2bcba5afce3afafdd5bbf36d2ca5_jpg.rf.6e3358605c2734735af18f31e571692c.jpg\n",
            "04aed88a8d23cf27e47806eb23948495_jpg.rf.985c4b231ab28487d4345ab040afb94c.jpg\n",
            "055b79dd8db4c43e1a23be6095aaf624_jpg.rf.67a8ff4aee8a2f00af03b3f98977c676.jpg\n",
            "05de676d5078dc0a13796f3f627993ef_jpg.rf.0a8e65da4f29d2a28325d3f020988eaf.jpg\n",
            "06770ce99d4866165c0dfb104179c361_jpg.rf.d8685d4639672391538d33e57ff87a85.jpg\n",
            "0798bfb058da59d189c1bfadcf814f29_jpg.rf.4b02423be86fa6dc14a4913de966a5dd.jpg\n",
            "0b4ba28f0c759a11750a6430649b52e3_jpg.rf.c840c64b42f1edd63fd63024fed5ec8b.jpg\n",
            "0cf670506bf9e0fe587647cd62caa232_jpg.rf.411e40b679800ecff1e2c440035e3722.jpg\n",
            "0d9dbf62d5ee42b92bf55197bba4254d_jpg.rf.d6c9eae5e5bed8f41ba7302bcd00064e.jpg\n",
            "104ec0199cb67e1a359b1b0845ee66f3_jpg.rf.be5abecc546e16851c415aaaa6119d2d.jpg\n",
            "13106bbc80a01cc413c2ab5052d2ec25_jpg.rf.c0f851bdf9bd534e5d972ecf341aedb6.jpg\n",
            "1595777dfa66e954ae23655743e24809_jpg.rf.ce144eded98c26dadbeca8e80df31963.jpg\n",
            "1728cd731489df8bb8e0396e178fe393_jpg.rf.19f2e7a6596a0e98b9279154f1a31075.jpg\n",
            "1877a28e4c5f5c1ea68aca66f4e85d95_jpg.rf.263a83e7c95a2a7b3df541c43f3bd3f3.jpg\n",
            "196829feb704a34a4e471155f14bdd80_jpg.rf.9490ff7a9097c948107e432f3934b128.jpg\n",
            "1a530d578f3f0bf3497bfeff3d953025_jpg.rf.e666096a1e6aef9c410fe0a5caff68a4.jpg\n",
            "1a8a4abcba7c4ead35c01f05b9fae8e5_jpg.rf.8e60639ed4cbd253966be89b5a242834.jpg\n",
            "1b4ccdf7d5ff45dc6c3885243bde5af2_jpg.rf.3ad9dc5fdd86856e5dc10e776f695818.jpg\n",
            "22e74efb18b2d88fba63d25a61bf5f97_jpg.rf.72cda26bc69e8611a023dea25871bb26.jpg\n",
            "23988893ef7381fece6d1ef32ef5428f_jpg.rf.c5e09b6b2996b5453a95e7facd4b4683.jpg\n",
            "239c409d5c09b493fed01a70a3cda4bc_jpg.rf.a745921b91958a16c18c92b259aca5ea.jpg\n",
            "247f9cf35a263dc7dd7886b187fd5480_jpg.rf.d77e03ae61805408a2c3f81f2217d3ca.jpg\n",
            "254f92b18b2a81f88b85e7aed3cabc61_jpg.rf.a5d3749856054f63addc3c8282336d11.jpg\n",
            "26d663ab5ffbec49f9dc8e592982cfd4_jpg.rf.b18d279ba4125fd80a1d12ac0e771a97.jpg\n",
            "285d7c487a4e20ad832a74acb527b77f_jpg.rf.8925934caf22a38a85af6fd60453f502.jpg\n",
            "292b0ddcacad7de06a628980954b6993_jpg.rf.c44c0299e2b2a05ba93ceadcd8e8568a.jpg\n",
            "2c32afd520cc8bf076dfa5b6e2e1c4c1_jpg.rf.e9ad14fa3330976595bbd5162e607641.jpg\n",
            "2ee0fd0963465ba29d8f27c6e605c55d_jpg.rf.416ed5a06f9bae303c04fb48287f167f.jpg\n",
            "2fe75c34fd54e960146fb8b0ad8b3fd6_jpg.rf.9b91df20f1a711da331d1878d5687f13.jpg\n",
            "300f80826bbb7dc4bf83e148614f2f77_jpg.rf.4a030c3f3f66357883fd1b9ae35cb892.jpg\n",
            "3057eba7e9b0221ddbdc96a01f39ab79_jpg.rf.99cea19d83ccb4944b34919888dd0b71.jpg\n",
            "3091c9b25d76e9cbd0af83ced9f354e5_jpg.rf.a96c979a388355dec7d4f832c0027f12.jpg\n",
            "31419854b103ca6becc4cc394c449e95_jpg.rf.11b00b871f708bbe4d1421a0d9bc9daa.jpg\n",
            "3161933dffedf8a859d6623a99492c53_jpg.rf.c58eabf189045a84e3c4389cebbcb9ec.jpg\n",
            "3474d785b1b21d68163f56aa00a92bc9_jpg.rf.6bd40b33320a982005920d6d2d680c64.jpg\n",
            "34ad1966ae7a17d4502ca141413ed8d2_jpg.rf.537d7ed41b558d70e1324f7ca1852ae0.jpg\n",
            "36066ba85572ce99198f1a21c2c8bbff_jpg.rf.0b8c6b6b4c05ac617ba42138acb75757.jpg\n",
            "3730ef213ac6aad431475a9ab28f349a_jpg.rf.f5f1fbb4d67fe92ce0d9acaa098cf5ac.jpg\n",
            "3796db002cba7265bd32b0161ddd9127_jpg.rf.d39211b0dcef15258c6b963af339174e.jpg\n",
            "37fe05bcf7d8568a9e55b569afdbccbd_jpg.rf.cf1a8be3a1ab89adc512c7969c0f1858.jpg\n",
            "383c2ed7bbe2d327ab55a871db497c33_jpg.rf.52c7e74ebf109fe309e4b5c4def80ab7.jpg\n",
            "389b4c47568c78c44df11dbb1377ffea_jpg.rf.cf94bc4ad387c2217d8cdf5402adcc1b.jpg\n",
            "38f26ee82e38d332b2a831aa47bd363b_jpg.rf.69b9f7a3e7a10d7cdea51d7d7f01ba63.jpg\n",
            "3914be0cea4aa8a6bbd1081ec3b034a7_jpg.rf.683bc62edd79c5db6b8b1dffcefc8d3f.jpg\n",
            "3bab0eaaeb63a2ac9ae4942df4006a25_jpg.rf.1e2bc93d96300515f87808e09a5dd9a0.jpg\n",
            "3e8fb24addda1a0945bd6b7777bc4018_jpg.rf.ec3432947d47720924cbb0dbf51956ba.jpg\n",
            "446e75de1ffefc2115e79696bcf0e357_jpg.rf.3515dc451efed9a872f9268f3e9eb744.jpg\n",
            "4667110b61b16e786673ed6126ccc35d_jpg.rf.8dd3ddf202a5cb346771cb4461f82884.jpg\n",
            "479459fe5c8213a84fd55ba82f2670b1_jpg.rf.f481d875b91a96ca7982bfb5ba10e167.jpg\n",
            "47e842dd95735a11cf92c0ddf1161193_jpg.rf.fa045b4cdedb6dbeea6226d5e5d58a5c.jpg\n",
            "4807629b8df9c7eb4366b7feccd72e6a_jpg.rf.7d7f1b6fcb45b82fca8e8d6ce7ae33a9.jpg\n",
            "4894f034a55eaa9252cd261a62b11d27_jpg.rf.5821daba2605c369ab52a6c1d3485b2a.jpg\n",
            "48d3c59a99b2b5a5b9f1eb7d5ba63b60_jpg.rf.4360a206e865320f4f5dddea12152bf6.jpg\n",
            "48e115dcbf1b3a67ca47a75a92da3f33_jpg.rf.b7f219d6adc0b92d43dc62bd98ee752b.jpg\n",
            "4939035108d04ee672570a7cc937e270_jpg.rf.6fade1d3dc27011193c2fa8b9c10bd12.jpg\n",
            "49c2afbbe5726160b289f7c0c62cdace_jpg.rf.018249b80783dd42d0d23496d4830902.jpg\n",
            "49d365236ee4fb6bd982b0f00bff007e_jpg.rf.a2679c37a0afa53ab1a9394ff0585f46.jpg\n",
            "49f78dc9aaeadd0c76ed2def75c358f3_jpg.rf.06d058407b83ba70ad2e41656d9d2195.jpg\n",
            "4ae38537a74c5ed10d5223f8066659fc_jpg.rf.b8e4020f3f188e6ebe715200d8db0c27.jpg\n",
            "4bf38c062fa7b5796d15ba90d6c3a456_jpg.rf.ca8cb7f5c79fb302acc4a6bd81e0b9a6.jpg\n",
            "4d6b667ecbd41ebd603b38848366d9d0_jpg.rf.e51e6ab1c441b8766bf8503333a69db9.jpg\n",
            "4d7820ad9fb4fe69d5168e1d7317dd02_jpg.rf.877766bf8a749843720f86abf3056207.jpg\n",
            "4de23afff63bc169b4ebe547a9c9b692_jpg.rf.3c9bf54ca2de480c19e30d7808e4a2f6.jpg\n",
            "4eb630d4dd38528dacf72355caf5c06d_jpg.rf.192a83d78be33d7b7f4a5bdc1b47702f.jpg\n",
            "53de0674524ae6d77bdfff48136dec2a_jpg.rf.e3110b74dc7e779b42cf28f66c70a5d5.jpg\n",
            "54a90aab8c73562975cc560d51a9d2d1_jpg.rf.27c69714af4c78fdd6f390a4def1e4a3.jpg\n",
            "5758322233deed7ae7adc23536db2a4f_jpg.rf.8999db6b1f2c3f65d582bc066a6c55c5.jpg\n",
            "5825608dccde6544eef91822136079d0_jpg.rf.7c4ac226ecdf109b9b74f91cefc46dde.jpg\n",
            "59727dce26aaa6100078810b61404069_jpg.rf.d0c247bc8da0897e492a48e773adf35c.jpg\n",
            "5a8433ec79c881f84ef19a07dc73665d_jpg.rf.2f0c3c38d635f03ea39475fd078c3414.jpg\n",
            "5cecd3b3946aac5c713a51e0bd4617c9_jpg.rf.b0e3d523923d0224d5f5faa66949b7aa.jpg\n",
            "5e71cb8d41c333a18e799ef0004b040c_jpg.rf.57a1424a00d13826fe3e771dd404ceff.jpg\n",
            "614811e933a680fd6535ac8bf06bf530_jpg.rf.ace44d36688dfecc17409089f7d0720f.jpg\n",
            "614aadadb4a7f5b475b027b8e11398ee_jpg.rf.e3506223ffe7f4878bc357cdc1f33cd2.jpg\n",
            "61567b97353acc18ba9e8aac0f111326_jpg.rf.69222b87f379416d71b28d07b4914777.jpg\n",
            "6179b463c8f503445e213b706d2a4de5_jpg.rf.8882e7b1020797df38ea13e02e43a69c.jpg\n",
            "6403b91d63799cb9b5531c47b195d088_jpg.rf.77da8d8e3bc7557ac1396d597f5759c5.jpg\n",
            "6589f4cfb37439d7d276f0d70f7ee1f0_jpg.rf.8d4dabde24fa1a51f62ebf8ae0ce02e6.jpg\n",
            "65ba27557c78850168b1df70a3ce4ff7_jpg.rf.223d0d2c45a4796a00809534807bfea2.jpg\n",
            "66f3c2c7c10a9263de9c6e056ba5c1b9_jpg.rf.9e391887b9da6213f12999e1628558bb.jpg\n",
            "673bcd0d44f495fbe9dd88d5cacfceb3_jpg.rf.4c5902b014a2bdaf3057a3c74b6a44a2.jpg\n",
            "675619f2c8078824cfd182cec2eeba95_jpg.rf.223c4b81b8fa7e3bd7a24577a10a5382.jpg\n",
            "699edbacbfee5e6d4d6d2189bc88990a_jpg.rf.26706a6cf9de8ec15a6bdb7e53e6173c.jpg\n",
            "6ba74e310dd824af891d057d674cedb9_jpg.rf.d5ce8eb38bcd1353757d902b6c07c670.jpg\n",
            "6bb6f7cb96bf37230681d12ff7882f61_jpg.rf.f367c0f54253444f9c2f8f8968a1a47f.jpg\n",
            "6f0a888f9e5aed9516e336fd04723ce1_jpg.rf.284ac83a4d78d901e17b6ca1f8d6222a.jpg\n",
            "6f0de9b594de9f9b92c6a20daa51a28a_jpg.rf.bc6c392807dacf7a8a84cae9c09acd03.jpg\n",
            "759a86e63667ca033255c4ab438dd392_jpg.rf.7ce77a0061d42d49bf91a4329cafdc59.jpg\n",
            "76d01bada90581f55f1ae64c062cafcf_jpg.rf.d8d268060aa9f6fd260d483b10ac6a04.jpg\n",
            "76dbe2ccf986a2a0d399d3d8a47279ad_jpg.rf.581770ac7f3816d67c2431339bc65592.jpg\n",
            "76e118acf05a8ebe06957f8882cc06aa_jpg.rf.355e39cef189edb061cf20d6e59d42db.jpg\n",
            "79e744a68d6e6f83be0a9e8761ea66a4_jpg.rf.433e4079f552b8e2c261a6a3052f30cd.jpg\n",
            "7df16cd59fb40e0691948cc805e4801b_jpg.rf.c439322b6c3c711ba67ace0c0f3ebffe.jpg\n",
            "7ee8d13861bdc45e40a7cfe190a8d8a6_jpg.rf.67d658f56e627e74416bc18ec92107c2.jpg\n",
            "81f5c542ffe0f9eae4df59d29acbcced_jpg.rf.99b5d8d7a1f3fa6cbb6e9ecfb5e3d8b3.jpg\n",
            "859e7157c6d544236a67463c08169b6e_jpg.rf.bdb4426cf64b8f8c1e1d693a1df74b76.jpg\n",
            "8678864272a0a04c4c65ca96324105b4_jpg.rf.90118317e342f59a5e18a9c460e72a99.jpg\n",
            "871597c145446cf58c1c2dd7db988864_jpg.rf.6cecb51bef82f71cd395832fa16411ba.jpg\n",
            "889c420fb266b8d0e817306110042bda_jpg.rf.02d22a79820be51228296021ad0b6bbb.jpg\n",
            "8967433350d3b3043902603430fccaab_jpg.rf.0e119efea84f75200b18702781a169ba.jpg\n",
            "8bb72e70f0560095885586deba37a524_jpg.rf.436c6acb4c9d0a040b6a86ad0a41e770.jpg\n",
            "8d6f722eadc015a393bd490f9b7a85e6_jpg.rf.85a7f0c7d2d1b7ce90664ff35b84fe8d.jpg\n",
            "8d796de64b9eed1ffd5ebe550d4ca807_jpg.rf.bcadbba8ab4a943a30062047dd9951be.jpg\n",
            "8dd12470c30e3b265e8933a6fee7ad28_jpg.rf.a583ec04d3044992cfd9acbebea7aa95.jpg\n",
            "8de03901c64a80070048ead3fb0d32bd_jpg.rf.d4cd4d7336cee96c7c01731c6f3b81cd.jpg\n",
            "8f84f1945fd993facc3368d13345f333_jpg.rf.3286223477d0f45d03a6a9854b7ff4a6.jpg\n",
            "8ff64b3f770bfe96bdffc629efd16460_jpg.rf.f14ad67cdd66b17692929139aef233d6.jpg\n",
            "9146a6989dac08f1769e677064ebfb49_jpg.rf.21c3f74a60d73237ceb25280df5cebe8.jpg\n",
            "92992ff9c823e0420bf17e71db9ef4ef_jpg.rf.73292c1560eefbd1a84212b43be8d424.jpg\n",
            "93557fc861304f7753089c244bc1e33e_jpg.rf.15d07a278e4c1061b2d99a2b95ff9921.jpg\n",
            "969daa72bd7804ea1212e191820249b0_jpg.rf.9ac5120ab4af0484ace560bea2c39a7c.jpg\n",
            "97aeb1f9b745a929e9ac0848acb53a1a_jpg.rf.a37313f9380bde8e4827749f1dba6d7c.jpg\n",
            "9962a4d44388b9008aa0f466e4f4052c_jpg.rf.faa4d33a45e46b53fcc8f751377a8160.jpg\n",
            "998222d9c93f1640829d4f0032dbf3e8_jpg.rf.28adf4b8b45dc5d0011897ab15e9419f.jpg\n",
            "99ee6574b2a7afc0bb06269bbcf49a4c_jpg.rf.64986b73afba1223e13eadbd9b0fdb27.jpg\n",
            "9a6b61a6d3b3e3ecddc201b097aa02d1_jpg.rf.d5534a244c0a9972da49c08b89f83f75.jpg\n",
            "9c153a9c9798dab948d4260eb109b315_jpg.rf.8db7f32aeb3c84a69b2a7d79b921fc5b.jpg\n",
            "9c5fb0c3cfd7b334a247cd87c139e8e6_jpg.rf.588e9ea4bfffb48edc0f99b7af98c96f.jpg\n",
            "9d776e74e90c4f8092b060dd7567e2f8_jpg.rf.b70c4c285edf5789719b8f7bddac3ddc.jpg\n",
            "9e943906fba1ec89edfacb2dd7976504_jpg.rf.aa1f7ea2f8c95e89aa701d9f87056330.jpg\n",
            "9fc54a45feb5b01db8f6828d181fb075_jpg.rf.04e7c11036b566a522bc317e86e5ab6a.jpg\n",
            "a20eb4bb3cea2e394cfcf9ed969b628e_jpg.rf.9d2528623e7939a30ec82e76cac3df47.jpg\n",
            "a4028b2361ce7ead654a86b07ac39d52_jpg.rf.03a20a2a674a95ceb6c61a5e531e8ca6.jpg\n",
            "a4ebf4c268d80c4fe329331ea981b3a1_jpg.rf.d7e764e24afbdced1e4f8848f249bdfc.jpg\n",
            "a5c65b40e0be3480c0ecfacaab399a87_jpg.rf.667ef27bf19775d48f8acf8dad04fa26.jpg\n",
            "a8847f8fe8eaaa1c97bf83027a901760_jpg.rf.116b33357951f46fbbe0d5437561f61b.jpg\n",
            "a932287da44b9dfacd0d16a5c1d27923_jpg.rf.b0950400898d51ce08945ad5c770ab03.jpg\n",
            "a9768de3fceeeae2618f362870fb9a88_jpg.rf.055c7088ca1c11c42bcafa4950f2572f.jpg\n",
            "a9987cf6cc5c6545818ec294d4a5bb9b_jpg.rf.21f51fbefe01648bbbb01e0d207c3843.jpg\n",
            "_annotations.coco.json\n",
            "b0f3d66c8be13f5f6aa25b67a06bdcfa_jpg.rf.30cc54e5f0d02160a2da3f6da04a9653.jpg\n",
            "b3b002461f1c6b432e22964549767e5f_jpg.rf.6164bf4eadfd3dcb7f7ee2a2bd0764c2.jpg\n",
            "b5102d7f9740eee7754ed268becb2163_jpg.rf.28a72d037ac692cc90b96708b1b05316.jpg\n",
            "b5bcde459ca36f0d1f3c20e751336672_jpg.rf.0c6010e1e0afa0ff49d14eef51b5e6c8.jpg\n",
            "b79ae5b70de58089ead6e32b235e30d3_jpg.rf.68c670de3208dc56613dc9b9f65ec934.jpg\n",
            "b7a8c7de4fe1382d69f58ac97e819b5c_jpg.rf.d3b1cfbb0c618d6afff8ea3b96c4d331.jpg\n",
            "bb54af2f0b83b174aecc29328c8fa001_jpg.rf.38630287afd7ffe84cd9468138ab7485.jpg\n",
            "bc5decab88861286dcf78a367b4377cb_jpg.rf.c3e51d3ab678f7b49912e57cfd3d161c.jpg\n",
            "beb11566e59775b61f0ca369952067cc_jpg.rf.726ac46a167828c2e34ad77f7abf895e.jpg\n",
            "c0d68e012bb93c14bc333fc1d5e52621_jpg.rf.47fcf95dac60ca78902fc86cca7eab28.jpg\n",
            "c3e9e81ba1540aae7961a4d8d96600ba_jpg.rf.deda5846f9437d81262d2e25f5808e36.jpg\n",
            "c46bf04050a2a9323dfe563e8813602f_jpg.rf.634c5d0d551ab2b7c2554e4ce3c6aacb.jpg\n",
            "c733616ab773817dd1a356dbbdf2ee33_jpg.rf.02fcb1d459e55b398bd4cc4edbd3bd10.jpg\n",
            "c76c79e40bd9839a05237934cfa89ca3_jpg.rf.747f4292a1bb980bc392a787a773a0f1.jpg\n",
            "c7890b749d14d3488066cbdfac4620fd_jpg.rf.eed3f658d1c9c65acfbcad5219f70716.jpg\n",
            "ca869123d8a0cbcc6e54f4a445e5a78a_jpg.rf.de66695493176269696ee36a61dee1dc.jpg\n",
            "cae099fe41d6aa30033d71e433c33c8d_jpg.rf.e346e0084281a8f6b63bbfeb576d1fc0.jpg\n",
            "ce54969567273b9b8a275812ff56e16c_jpg.rf.af61be71f696438c30dc9bd87d299bd6.jpg\n",
            "cf2784fa97151d5316b2961b1e62dc45_jpg.rf.d728eed31f107b29e913a6b2ad1f751a.jpg\n",
            "d079f4e77b2445abceca7534356db743_jpg.rf.f7ee65ab8c16d3c9028443faaaf40ee2.jpg\n",
            "d0cc2420bce5b14dfd39e55dc3737e57_jpg.rf.3914cdc1a02f2972d5316062da6f285f.jpg\n",
            "d29148a2233950a7777285281cbfccff_jpg.rf.d23b4f180eb3b539d7ed88e2f4beb2cd.jpg\n",
            "d33c33de41dbe1a95a43212c58fd12b7_jpg.rf.cdd968f5b7c71aa6ef1c732c4079c262.jpg\n",
            "d3a4e1b8f13ef89f419251f5c5839d0d_jpg.rf.0c0623ed3bb8531690b2fbc7822d57bd.jpg\n",
            "d415969922564f317be0d1433330626f_jpg.rf.1271853558336c8d9c5414b3a0466b8f.jpg\n",
            "d494cb268ad7f9f55587de138edc1dc4_jpg.rf.b1bd99204b2ceacbda5bafa452a4d732.jpg\n",
            "d67b5b9e900409b050dd9bd594f90709_jpg.rf.e07557fe78a4af8f4213b7c50edcc48e.jpg\n",
            "d795f84f39716798482fb2937868ed8a_jpg.rf.57b7e9ee15d277b2694fdb94549a1487.jpg\n",
            "d9acc69c5d57623cda22786e309201c9_jpg.rf.d37b5a883d97f31d33db5281c8ae0395.jpg\n",
            "dd6b5c3cb2d7e77f38f1dfeb2bff0431_jpg.rf.f1dd1da676bf315e684a8e3a2ebbb82c.jpg\n",
            "ddad9dc4d945006d66f5349d64498559_jpg.rf.cbac3a32273efcef96c08a2b0df10485.jpg\n",
            "de60ba81aa78387928e4bdc11f3be301_jpg.rf.0cd8adb84fce0b83ee30a5fbdb4c1c4b.jpg\n",
            "e40003d4bbcdac7196b9502bfe2fb6ed_jpg.rf.a92a3ed23c63f90ce84648a564f2a287.jpg\n",
            "e6e3a2ff2c75970490079f00136885ad_jpg.rf.276c0ec51830ae8741a3e31c7f703638.jpg\n",
            "e79deba8fe520409790b601ad61da4ee_jpg.rf.8cd55f2548d15a4c111f0a980d3ee4fe.jpg\n",
            "e8480d7fb9881d8a0e88b7be4d103f6d_jpg.rf.eba2e44135388fd198939d843dca7e13.jpg\n",
            "ea799d77875c399618c45cd9409f34ee_jpg.rf.077cbf5dc80bdc0bf0f59ddd6ce6f69e.jpg\n",
            "eb9e7928e756c3cf9164e7afc08c4653_jpg.rf.77ace05280bcb7d839ab4cf9d586dfa2.jpg\n",
            "ec4c30d88ecc70b6a3e76dbd9b17324a_jpg.rf.34d31473728f2b9a68bb71a3f40e1d6f.jpg\n",
            "ec5ab1930d6aa16fff2582b48f82cada_jpg.rf.3164acc59bd3a1cade16f72b1f6e368a.jpg\n",
            "edd285915356686fb53fb52c1ded0e53_jpg.rf.5104c70947989766361c9335d2f39d37.jpg\n",
            "ef1d425fd5370fbf8b7adea43b755304_jpg.rf.4d4fe734367a2a5905da11a49184c767.jpg\n",
            "f02d615907c77dc15f02bd1372e4398f_jpg.rf.714211d55651f47944d10b81622f1d39.jpg\n",
            "f041d3171dfe3137390c85fc5437e447_jpg.rf.21a114abb3e64a6a241b6f7bdd0d8b9a.jpg\n",
            "f1ea0167087976926d4fe0aa36b961ce_jpg.rf.245c4d4e37e289bbd69b90b60e6ee9bc.jpg\n",
            "f2672cdc28767484b556da3ab6f1003e_jpg.rf.4397bb19b736490287e271bcf760ca16.jpg\n",
            "f3302c754c6fd42130014199ee327d10_jpg.rf.0bef2494f0a7ebf9afda6b7688cf68b0.jpg\n",
            "f3a5df526393445c6e2d38f66c1f5c27_jpg.rf.5c9ad833e2df809f6a0107ca7dd020ab.jpg\n",
            "f52e1873b8583f8bf4f7ddf6e9649f07_jpg.rf.48248922519cd3c8f36539bc09dd8528.jpg\n",
            "f587402be410b424bcbbac06e1dc6162_jpg.rf.a88d82401d5b97453bc047b92048ca39.jpg\n",
            "f9a9a175f26d4b26bca3a5338cc1405e_jpg.rf.ec1a436f709ef7dc2e4f1fd3c9f6355e.jpg\n",
            "fa3cf2724c1648a8822b59ac0759475f_jpg.rf.8b23c032ccc0fd6484f9d390cb6a2b9c.jpg\n",
            "fa4e2b9a8cf58f405f69a56c662834f2_jpg.rf.9c9fb84a36bdfc518396a26a21758f9c.jpg\n",
            "fb586797e8ad818c7e3e3a6411f73d84_jpg.rf.ad548be54dbd7087c07afbaa78746786.jpg\n",
            "fc9d7bc0453cb3324406401c00224d30_jpg.rf.da31aaeddba327ec61dea2b7f515e62b.jpg\n",
            "IMG_0166_JPG.rf.f228ddaecf7848a0520e929807b35af4.jpg\n",
            "IMG_0167_JPG.rf.661ad368ce42cadb9dc497ceaa07e777.jpg\n",
            "IMG_0291_JPG.rf.a72d476f25b25f6ef3f768e5876c2a55.jpg\n",
            "IMG_0292_JPG.rf.dae866a073c030671cc199d0d06353e4.jpg\n",
            "IMG_0294_JPG.rf.b7ae411904ff022e80b90f6267535f05.jpg\n",
            "IMG_0295_JPG.rf.8abd802272b965c843eb1ecbc8df4abc.jpg\n",
            "IMG_0296_JPG.rf.818119ea873100bb120049c72da67cbd.jpg\n",
            "IMG_0297_JPG.rf.2609f7e3ad4d54b19aafc0623f5a8510.jpg\n",
            "IMG_0298_JPG.rf.388fb04c02f369a0c79a524343fe590c.jpg\n",
            "IMG_0299_JPG.rf.7d92f1ba0929b7fc5e77848b80148fc6.jpg\n",
            "IMG_0317_JPG.rf.b9135e07e62170150fc67bc1f25b0d3c.jpg\n",
            "IMG_0318_JPG.rf.37a8faa6e2f4efc18f2113466c1ec320.jpg\n"
          ],
          "name": "stdout"
        }
      ]
    },
    {
      "cell_type": "code",
      "metadata": {
        "id": "5DtDu-7Hlk_O"
      },
      "source": [
        "#in the next three cells, we move the data into a structure that the image detection library will be expecting\n",
        "#but no file data manipulation is necessary\n",
        "#images can also be segmented into class folders, but we combine all classes here\n",
        "!mkdir Chess\n",
        "!mkdir Chess/annotations\n",
        "!mkdir Chess/Annotations\n",
        "!mkdir Chess/Images"
      ],
      "execution_count": null,
      "outputs": []
    },
    {
      "cell_type": "code",
      "metadata": {
        "id": "3uZzGiw_mrRI"
      },
      "source": [
        "%cp train/_annotations.coco.json Chess/annotations/instances_Images.json"
      ],
      "execution_count": null,
      "outputs": []
    },
    {
      "cell_type": "code",
      "metadata": {
        "id": "NLzZXkkhrvx4"
      },
      "source": [
        "%cp train/*.jpg Chess/Images/"
      ],
      "execution_count": null,
      "outputs": []
    },
    {
      "cell_type": "markdown",
      "metadata": {
        "id": "wBi3RS1_fd4N"
      },
      "source": [
        "# Training\n",
        "\n",
        "In this section we set up the efficientDet-d0 model from backbone and train to our custom case"
      ]
    },
    {
      "cell_type": "code",
      "metadata": {
        "id": "Fvfo6x7Vdw6i"
      },
      "source": [
        "import os\n",
        "import sys\n",
        "sys.path.append(\"Monk_Object_Detection/4_efficientdet/lib/\");"
      ],
      "execution_count": null,
      "outputs": []
    },
    {
      "cell_type": "code",
      "metadata": {
        "id": "21o9flNqfP-8"
      },
      "source": [
        "from train_detector import Detector"
      ],
      "execution_count": null,
      "outputs": []
    },
    {
      "cell_type": "code",
      "metadata": {
        "id": "c35tC0dCfoky"
      },
      "source": [
        "gtf = Detector();"
      ],
      "execution_count": null,
      "outputs": []
    },
    {
      "cell_type": "code",
      "metadata": {
        "id": "aYKeGqpqgvN4"
      },
      "source": [
        "#directs the model towards file structure\n",
        "root_dir = \"./\";\n",
        "coco_dir = \"Chess\";\n",
        "img_dir = \"./\";\n",
        "set_dir = \"Images\";"
      ],
      "execution_count": null,
      "outputs": []
    },
    {
      "cell_type": "code",
      "metadata": {
        "id": "T6epk9-HkBwJ",
        "colab": {
          "base_uri": "https://localhost:8080/"
        },
        "outputId": "2038cbbe-4758-4b00-a6b4-77b70b5ef1f0"
      },
      "source": [
        "#smells like some free compute from Colab, nice\n",
        "gtf.Train_Dataset(root_dir, coco_dir, img_dir, set_dir, batch_size=8, image_size=512, use_gpu=True)"
      ],
      "execution_count": null,
      "outputs": [
        {
          "output_type": "stream",
          "text": [
            "loading annotations into memory...\n",
            "Done (t=0.06s)\n",
            "creating index...\n",
            "index created!\n"
          ],
          "name": "stdout"
        },
        {
          "output_type": "stream",
          "text": [
            "/usr/local/lib/python3.7/dist-packages/torch/utils/data/dataloader.py:477: UserWarning: This DataLoader will create 3 worker processes in total. Our suggested max number of worker in current system is 2, which is smaller than what this DataLoader is going to create. Please be aware that excessive worker creation might get DataLoader running slow or even freeze, lower the worker number to avoid potential slowness/freeze if necessary.\n",
            "  cpuset_checked))\n"
          ],
          "name": "stderr"
        }
      ]
    },
    {
      "cell_type": "code",
      "metadata": {
        "id": "O0-xLOmisU9P",
        "colab": {
          "base_uri": "https://localhost:8080/",
          "height": 112
        },
        "outputId": "3e8c008b-6b2d-4687-ed6b-c51b757664e3"
      },
      "source": [
        "gtf.Model();"
      ],
      "execution_count": null,
      "outputs": [
        {
          "output_type": "stream",
          "text": [
            "Downloading: \"https://github.com/lukemelas/EfficientNet-PyTorch/releases/download/1.0/efficientnet-b0-355c32eb.pth\" to /root/.cache/torch/hub/checkpoints/efficientnet-b0-355c32eb.pth\n"
          ],
          "name": "stderr"
        },
        {
          "output_type": "display_data",
          "data": {
            "text/html": [
              "<div style=\"display:flex;flex-direction:row;\"><span></span><progress style='margin:2px 4px;' max='21388428' value='21388428'></progress>100% 20.4M/20.4M [00:01&lt;00:00, 11.1MB/s]</div>"
            ],
            "text/plain": [
              "<tqdm._fake_ipywidgets.HBox object>"
            ]
          },
          "metadata": {
            "tags": []
          }
        },
        {
          "output_type": "stream",
          "text": [
            "\n",
            "Loaded pretrained weights for efficientnet-b0\n"
          ],
          "name": "stdout"
        }
      ]
    },
    {
      "cell_type": "code",
      "metadata": {
        "id": "y3XsPHdxsXsH"
      },
      "source": [
        "gtf.Set_Hyperparams(lr=0.0001, val_interval=1, es_min_delta=0.0, es_patience=0)"
      ],
      "execution_count": null,
      "outputs": []
    },
    {
      "cell_type": "code",
      "metadata": {
        "id": "d7vtQ28fsc9K",
        "colab": {
          "base_uri": "https://localhost:8080/",
          "height": 1000
        },
        "outputId": "5dd67a03-a14c-4373-fa30-dcb2677298db"
      },
      "source": [
        "%%time\n",
        "gtf.Train(num_epochs=100, model_output_dir=\"trained/\");"
      ],
      "execution_count": null,
      "outputs": [
        {
          "output_type": "display_data",
          "data": {
            "text/html": [
              "<div style=\"display:flex;flex-direction:row;\"><span>Epoch: 1/100. Iteration: 25/25. Cls loss: 0.63795. Reg loss: 0.77278. Batch loss: 1.41072 Total loss: 1.78159</span><progress style='margin:2px 4px;description_width:initial;' max='25' value='25'></progress>100% 25/25 [00:31&lt;00:00,  1.01s/it]</div>"
            ],
            "text/plain": [
              "<tqdm._fake_ipywidgets.HBox object>"
            ]
          },
          "metadata": {
            "tags": []
          }
        },
        {
          "output_type": "stream",
          "text": [
            "/usr/local/lib/python3.7/dist-packages/torch/utils/data/dataloader.py:477: UserWarning: This DataLoader will create 3 worker processes in total. Our suggested max number of worker in current system is 2, which is smaller than what this DataLoader is going to create. Please be aware that excessive worker creation might get DataLoader running slow or even freeze, lower the worker number to avoid potential slowness/freeze if necessary.\n",
            "  cpuset_checked))\n"
          ],
          "name": "stderr"
        },
        {
          "output_type": "stream",
          "text": [
            "\n"
          ],
          "name": "stdout"
        },
        {
          "output_type": "stream",
          "text": [
            "Monk_Object_Detection/4_efficientdet/lib/src/utils.py:84: TracerWarning: Converting a tensor to a Python integer might cause the trace to be incorrect. We can't record the data flow of Python values, so this value will be treated as a constant in the future. This means that the trace might not generalize to other inputs!\n",
            "  image_shape = np.array(image_shape)\n",
            "Monk_Object_Detection/4_efficientdet/lib/src/utils.py:96: TracerWarning: torch.from_numpy results are registered as constants in the trace. You can safely ignore this warning if you use this function to create tensors out of constant variables that would be the same every time you call this function. In any other case, this might cause the trace to be incorrect.\n",
            "  anchors = torch.from_numpy(all_anchors.astype(np.float32))\n",
            "Monk_Object_Detection/4_efficientdet/lib/src/model.py:282: TracerWarning: Converting a tensor to a Python boolean might cause the trace to be incorrect. We can't record the data flow of Python values, so this value will be treated as a constant in the future. This means that the trace might not generalize to other inputs!\n",
            "  if scores_over_thresh.sum() == 0:\n"
          ],
          "name": "stderr"
        },
        {
          "output_type": "display_data",
          "data": {
            "text/html": [
              "<div style=\"display:flex;flex-direction:row;\"><span>Epoch: 2/100. Iteration: 25/25. Cls loss: 0.54566. Reg loss: 0.62795. Batch loss: 1.17361 Total loss: 1.34319</span><progress style='margin:2px 4px;description_width:initial;' max='25' value='25'></progress>100% 25/25 [00:31&lt;00:00,  1.00s/it]</div>"
            ],
            "text/plain": [
              "<tqdm._fake_ipywidgets.HBox object>"
            ]
          },
          "metadata": {
            "tags": []
          }
        },
        {
          "output_type": "stream",
          "text": [
            "\n"
          ],
          "name": "stdout"
        },
        {
          "output_type": "display_data",
          "data": {
            "text/html": [
              "<div style=\"display:flex;flex-direction:row;\"><span>Epoch: 3/100. Iteration: 25/25. Cls loss: 0.50581. Reg loss: 0.57017. Batch loss: 1.07598 Total loss: 1.08121</span><progress style='margin:2px 4px;description_width:initial;' max='25' value='25'></progress>100% 25/25 [00:31&lt;00:00,  1.01s/it]</div>"
            ],
            "text/plain": [
              "<tqdm._fake_ipywidgets.HBox object>"
            ]
          },
          "metadata": {
            "tags": []
          }
        },
        {
          "output_type": "stream",
          "text": [
            "\n"
          ],
          "name": "stdout"
        },
        {
          "output_type": "display_data",
          "data": {
            "text/html": [
              "<div style=\"display:flex;flex-direction:row;\"><span>Epoch: 4/100. Iteration: 25/25. Cls loss: 0.43121. Reg loss: 0.39909. Batch loss: 0.83031 Total loss: 0.91266</span><progress style='margin:2px 4px;description_width:initial;' max='25' value='25'></progress>100% 25/25 [00:31&lt;00:00,  1.01s/it]</div>"
            ],
            "text/plain": [
              "<tqdm._fake_ipywidgets.HBox object>"
            ]
          },
          "metadata": {
            "tags": []
          }
        },
        {
          "output_type": "stream",
          "text": [
            "\n"
          ],
          "name": "stdout"
        },
        {
          "output_type": "display_data",
          "data": {
            "text/html": [
              "<div style=\"display:flex;flex-direction:row;\"><span>Epoch: 5/100. Iteration: 25/25. Cls loss: 0.32404. Reg loss: 0.39831. Batch loss: 0.72236 Total loss: 0.81389</span><progress style='margin:2px 4px;description_width:initial;' max='25' value='25'></progress>100% 25/25 [00:30&lt;00:00,  1.01s/it]</div>"
            ],
            "text/plain": [
              "<tqdm._fake_ipywidgets.HBox object>"
            ]
          },
          "metadata": {
            "tags": []
          }
        },
        {
          "output_type": "stream",
          "text": [
            "\n"
          ],
          "name": "stdout"
        },
        {
          "output_type": "display_data",
          "data": {
            "text/html": [
              "<div style=\"display:flex;flex-direction:row;\"><span>Epoch: 6/100. Iteration: 25/25. Cls loss: 0.32933. Reg loss: 0.35028. Batch loss: 0.67961 Total loss: 0.75372</span><progress style='margin:2px 4px;description_width:initial;' max='25' value='25'></progress>100% 25/25 [00:31&lt;00:00,  1.01s/it]</div>"
            ],
            "text/plain": [
              "<tqdm._fake_ipywidgets.HBox object>"
            ]
          },
          "metadata": {
            "tags": []
          }
        },
        {
          "output_type": "stream",
          "text": [
            "\n"
          ],
          "name": "stdout"
        },
        {
          "output_type": "display_data",
          "data": {
            "text/html": [
              "<div style=\"display:flex;flex-direction:row;\"><span>Epoch: 7/100. Iteration: 25/25. Cls loss: 0.33875. Reg loss: 0.36783. Batch loss: 0.70657 Total loss: 0.67753</span><progress style='margin:2px 4px;description_width:initial;' max='25' value='25'></progress>100% 25/25 [00:31&lt;00:00,  1.00s/it]</div>"
            ],
            "text/plain": [
              "<tqdm._fake_ipywidgets.HBox object>"
            ]
          },
          "metadata": {
            "tags": []
          }
        },
        {
          "output_type": "stream",
          "text": [
            "\n"
          ],
          "name": "stdout"
        },
        {
          "output_type": "display_data",
          "data": {
            "text/html": [
              "<div style=\"display:flex;flex-direction:row;\"><span>Epoch: 8/100. Iteration: 25/25. Cls loss: 0.30716. Reg loss: 0.32264. Batch loss: 0.62980 Total loss: 0.65267</span><progress style='margin:2px 4px;description_width:initial;' max='25' value='25'></progress>100% 25/25 [00:30&lt;00:00,  1.01s/it]</div>"
            ],
            "text/plain": [
              "<tqdm._fake_ipywidgets.HBox object>"
            ]
          },
          "metadata": {
            "tags": []
          }
        },
        {
          "output_type": "stream",
          "text": [
            "\n"
          ],
          "name": "stdout"
        },
        {
          "output_type": "display_data",
          "data": {
            "text/html": [
              "<div style=\"display:flex;flex-direction:row;\"><span>Epoch: 9/100. Iteration: 25/25. Cls loss: 0.28473. Reg loss: 0.27011. Batch loss: 0.55484 Total loss: 0.61894</span><progress style='margin:2px 4px;description_width:initial;' max='25' value='25'></progress>100% 25/25 [00:30&lt;00:00,  1.01s/it]</div>"
            ],
            "text/plain": [
              "<tqdm._fake_ipywidgets.HBox object>"
            ]
          },
          "metadata": {
            "tags": []
          }
        },
        {
          "output_type": "stream",
          "text": [
            "\n"
          ],
          "name": "stdout"
        },
        {
          "output_type": "display_data",
          "data": {
            "text/html": [
              "<div style=\"display:flex;flex-direction:row;\"><span>Epoch: 10/100. Iteration: 25/25. Cls loss: 0.28003. Reg loss: 0.35551. Batch loss: 0.63554 Total loss: 0.57408</span><progress style='margin:2px 4px;description_width:initial;' max='25' value='25'></progress>100% 25/25 [00:31&lt;00:00,  1.01s/it]</div>"
            ],
            "text/plain": [
              "<tqdm._fake_ipywidgets.HBox object>"
            ]
          },
          "metadata": {
            "tags": []
          }
        },
        {
          "output_type": "stream",
          "text": [
            "\n"
          ],
          "name": "stdout"
        },
        {
          "output_type": "display_data",
          "data": {
            "text/html": [
              "<div style=\"display:flex;flex-direction:row;\"><span>Epoch: 11/100. Iteration: 25/25. Cls loss: 0.35368. Reg loss: 0.31177. Batch loss: 0.66545 Total loss: 0.55068</span><progress style='margin:2px 4px;description_width:initial;' max='25' value='25'></progress>100% 25/25 [00:31&lt;00:00,  1.02s/it]</div>"
            ],
            "text/plain": [
              "<tqdm._fake_ipywidgets.HBox object>"
            ]
          },
          "metadata": {
            "tags": []
          }
        },
        {
          "output_type": "stream",
          "text": [
            "\n"
          ],
          "name": "stdout"
        },
        {
          "output_type": "display_data",
          "data": {
            "text/html": [
              "<div style=\"display:flex;flex-direction:row;\"><span>Epoch: 12/100. Iteration: 25/25. Cls loss: 0.24062. Reg loss: 0.20534. Batch loss: 0.44596 Total loss: 0.50578</span><progress style='margin:2px 4px;description_width:initial;' max='25' value='25'></progress>100% 25/25 [00:31&lt;00:00,  1.01s/it]</div>"
            ],
            "text/plain": [
              "<tqdm._fake_ipywidgets.HBox object>"
            ]
          },
          "metadata": {
            "tags": []
          }
        },
        {
          "output_type": "stream",
          "text": [
            "\n"
          ],
          "name": "stdout"
        },
        {
          "output_type": "display_data",
          "data": {
            "text/html": [
              "<div style=\"display:flex;flex-direction:row;\"><span>Epoch: 13/100. Iteration: 25/25. Cls loss: 0.24082. Reg loss: 0.26587. Batch loss: 0.50669 Total loss: 0.51781</span><progress style='margin:2px 4px;description_width:initial;' max='25' value='25'></progress>100% 25/25 [00:31&lt;00:00,  1.01s/it]</div>"
            ],
            "text/plain": [
              "<tqdm._fake_ipywidgets.HBox object>"
            ]
          },
          "metadata": {
            "tags": []
          }
        },
        {
          "output_type": "stream",
          "text": [
            "\n"
          ],
          "name": "stdout"
        },
        {
          "output_type": "display_data",
          "data": {
            "text/html": [
              "<div style=\"display:flex;flex-direction:row;\"><span>Epoch: 14/100. Iteration: 25/25. Cls loss: 0.22614. Reg loss: 0.18406. Batch loss: 0.41020 Total loss: 0.46265</span><progress style='margin:2px 4px;description_width:initial;' max='25' value='25'></progress>100% 25/25 [00:30&lt;00:00,  1.01s/it]</div>"
            ],
            "text/plain": [
              "<tqdm._fake_ipywidgets.HBox object>"
            ]
          },
          "metadata": {
            "tags": []
          }
        },
        {
          "output_type": "stream",
          "text": [
            "\n"
          ],
          "name": "stdout"
        },
        {
          "output_type": "stream",
          "text": [
            "/usr/local/lib/python3.7/dist-packages/torch/onnx/symbolic_opset9.py:2561: UserWarning: Exporting aten::index operator with indices of type Byte. Only 1-D indices are supported. In any other case, this will produce an incorrect ONNX graph.\n",
            "  warnings.warn(\"Exporting aten::index operator with indices of type Byte. \"\n",
            "/usr/local/lib/python3.7/dist-packages/torch/onnx/symbolic_opset9.py:653: UserWarning: This model contains a squeeze operation on dimension 1. If the model is intended to be used with dynamic input shapes, please use opset version 11 to export the model.\n",
            "  \"intended to be used with dynamic input shapes, please use opset version 11 to export the model.\")\n"
          ],
          "name": "stderr"
        },
        {
          "output_type": "display_data",
          "data": {
            "text/html": [
              "<div style=\"display:flex;flex-direction:row;\"><span>Epoch: 15/100. Iteration: 25/25. Cls loss: 0.22116. Reg loss: 0.25611. Batch loss: 0.47727 Total loss: 0.42208</span><progress style='margin:2px 4px;description_width:initial;' max='25' value='25'></progress>100% 25/25 [00:31&lt;00:00,  1.01s/it]</div>"
            ],
            "text/plain": [
              "<tqdm._fake_ipywidgets.HBox object>"
            ]
          },
          "metadata": {
            "tags": []
          }
        },
        {
          "output_type": "stream",
          "text": [
            "\n"
          ],
          "name": "stdout"
        },
        {
          "output_type": "display_data",
          "data": {
            "text/html": [
              "<div style=\"display:flex;flex-direction:row;\"><span>Epoch: 16/100. Iteration: 25/25. Cls loss: 0.17341. Reg loss: 0.22378. Batch loss: 0.39719 Total loss: 0.40824</span><progress style='margin:2px 4px;description_width:initial;' max='25' value='25'></progress>100% 25/25 [00:31&lt;00:00,  1.01s/it]</div>"
            ],
            "text/plain": [
              "<tqdm._fake_ipywidgets.HBox object>"
            ]
          },
          "metadata": {
            "tags": []
          }
        },
        {
          "output_type": "stream",
          "text": [
            "\n"
          ],
          "name": "stdout"
        },
        {
          "output_type": "display_data",
          "data": {
            "text/html": [
              "<div style=\"display:flex;flex-direction:row;\"><span>Epoch: 17/100. Iteration: 25/25. Cls loss: 0.15932. Reg loss: 0.16900. Batch loss: 0.32833 Total loss: 0.39910</span><progress style='margin:2px 4px;description_width:initial;' max='25' value='25'></progress>100% 25/25 [00:31&lt;00:00,  1.01s/it]</div>"
            ],
            "text/plain": [
              "<tqdm._fake_ipywidgets.HBox object>"
            ]
          },
          "metadata": {
            "tags": []
          }
        },
        {
          "output_type": "stream",
          "text": [
            "\n"
          ],
          "name": "stdout"
        },
        {
          "output_type": "display_data",
          "data": {
            "text/html": [
              "<div style=\"display:flex;flex-direction:row;\"><span>Epoch: 18/100. Iteration: 25/25. Cls loss: 0.19396. Reg loss: 0.22664. Batch loss: 0.42060 Total loss: 0.37938</span><progress style='margin:2px 4px;description_width:initial;' max='25' value='25'></progress>100% 25/25 [00:30&lt;00:00,  1.01s/it]</div>"
            ],
            "text/plain": [
              "<tqdm._fake_ipywidgets.HBox object>"
            ]
          },
          "metadata": {
            "tags": []
          }
        },
        {
          "output_type": "stream",
          "text": [
            "\n"
          ],
          "name": "stdout"
        },
        {
          "output_type": "display_data",
          "data": {
            "text/html": [
              "<div style=\"display:flex;flex-direction:row;\"><span>Epoch: 19/100. Iteration: 25/25. Cls loss: 0.14870. Reg loss: 0.19192. Batch loss: 0.34061 Total loss: 0.34913</span><progress style='margin:2px 4px;description_width:initial;' max='25' value='25'></progress>100% 25/25 [00:31&lt;00:00,  1.00s/it]</div>"
            ],
            "text/plain": [
              "<tqdm._fake_ipywidgets.HBox object>"
            ]
          },
          "metadata": {
            "tags": []
          }
        },
        {
          "output_type": "stream",
          "text": [
            "\n"
          ],
          "name": "stdout"
        },
        {
          "output_type": "display_data",
          "data": {
            "text/html": [
              "<div style=\"display:flex;flex-direction:row;\"><span>Epoch: 20/100. Iteration: 25/25. Cls loss: 0.11899. Reg loss: 0.19644. Batch loss: 0.31543 Total loss: 0.35369</span><progress style='margin:2px 4px;description_width:initial;' max='25' value='25'></progress>100% 25/25 [00:31&lt;00:00,  1.01s/it]</div>"
            ],
            "text/plain": [
              "<tqdm._fake_ipywidgets.HBox object>"
            ]
          },
          "metadata": {
            "tags": []
          }
        },
        {
          "output_type": "stream",
          "text": [
            "\n"
          ],
          "name": "stdout"
        },
        {
          "output_type": "display_data",
          "data": {
            "text/html": [
              "<div style=\"display:flex;flex-direction:row;\"><span>Epoch: 21/100. Iteration: 25/25. Cls loss: 0.13676. Reg loss: 0.18645. Batch loss: 0.32320 Total loss: 0.31859</span><progress style='margin:2px 4px;description_width:initial;' max='25' value='25'></progress>100% 25/25 [00:31&lt;00:00,  1.01s/it]</div>"
            ],
            "text/plain": [
              "<tqdm._fake_ipywidgets.HBox object>"
            ]
          },
          "metadata": {
            "tags": []
          }
        },
        {
          "output_type": "stream",
          "text": [
            "\n"
          ],
          "name": "stdout"
        },
        {
          "output_type": "display_data",
          "data": {
            "text/html": [
              "<div style=\"display:flex;flex-direction:row;\"><span>Epoch: 22/100. Iteration: 25/25. Cls loss: 0.12568. Reg loss: 0.20815. Batch loss: 0.33382 Total loss: 0.31185</span><progress style='margin:2px 4px;description_width:initial;' max='25' value='25'></progress>100% 25/25 [00:30&lt;00:00,  1.01s/it]</div>"
            ],
            "text/plain": [
              "<tqdm._fake_ipywidgets.HBox object>"
            ]
          },
          "metadata": {
            "tags": []
          }
        },
        {
          "output_type": "stream",
          "text": [
            "\n"
          ],
          "name": "stdout"
        },
        {
          "output_type": "display_data",
          "data": {
            "text/html": [
              "<div style=\"display:flex;flex-direction:row;\"><span>Epoch: 23/100. Iteration: 25/25. Cls loss: 0.10759. Reg loss: 0.17188. Batch loss: 0.27948 Total loss: 0.29368</span><progress style='margin:2px 4px;description_width:initial;' max='25' value='25'></progress>100% 25/25 [00:31&lt;00:00,  1.01s/it]</div>"
            ],
            "text/plain": [
              "<tqdm._fake_ipywidgets.HBox object>"
            ]
          },
          "metadata": {
            "tags": []
          }
        },
        {
          "output_type": "stream",
          "text": [
            "\n"
          ],
          "name": "stdout"
        },
        {
          "output_type": "display_data",
          "data": {
            "text/html": [
              "<div style=\"display:flex;flex-direction:row;\"><span>Epoch: 24/100. Iteration: 25/25. Cls loss: 0.07444. Reg loss: 0.14838. Batch loss: 0.22282 Total loss: 0.28169</span><progress style='margin:2px 4px;description_width:initial;' max='25' value='25'></progress>100% 25/25 [00:31&lt;00:00,  1.01s/it]</div>"
            ],
            "text/plain": [
              "<tqdm._fake_ipywidgets.HBox object>"
            ]
          },
          "metadata": {
            "tags": []
          }
        },
        {
          "output_type": "stream",
          "text": [
            "\n"
          ],
          "name": "stdout"
        },
        {
          "output_type": "display_data",
          "data": {
            "text/html": [
              "<div style=\"display:flex;flex-direction:row;\"><span>Epoch: 25/100. Iteration: 25/25. Cls loss: 0.08821. Reg loss: 0.13774. Batch loss: 0.22595 Total loss: 0.27455</span><progress style='margin:2px 4px;description_width:initial;' max='25' value='25'></progress>100% 25/25 [00:31&lt;00:00,  1.01s/it]</div>"
            ],
            "text/plain": [
              "<tqdm._fake_ipywidgets.HBox object>"
            ]
          },
          "metadata": {
            "tags": []
          }
        },
        {
          "output_type": "stream",
          "text": [
            "\n"
          ],
          "name": "stdout"
        },
        {
          "output_type": "display_data",
          "data": {
            "text/html": [
              "<div style=\"display:flex;flex-direction:row;\"><span>Epoch: 26/100. Iteration: 25/25. Cls loss: 0.09288. Reg loss: 0.11788. Batch loss: 0.21076 Total loss: 0.26311</span><progress style='margin:2px 4px;description_width:initial;' max='25' value='25'></progress>100% 25/25 [00:31&lt;00:00,  1.01s/it]</div>"
            ],
            "text/plain": [
              "<tqdm._fake_ipywidgets.HBox object>"
            ]
          },
          "metadata": {
            "tags": []
          }
        },
        {
          "output_type": "stream",
          "text": [
            "\n"
          ],
          "name": "stdout"
        },
        {
          "output_type": "display_data",
          "data": {
            "text/html": [
              "<div style=\"display:flex;flex-direction:row;\"><span>Epoch: 27/100. Iteration: 25/25. Cls loss: 0.05934. Reg loss: 0.11228. Batch loss: 0.17163 Total loss: 0.24963</span><progress style='margin:2px 4px;description_width:initial;' max='25' value='25'></progress>100% 25/25 [00:30&lt;00:00,  1.01s/it]</div>"
            ],
            "text/plain": [
              "<tqdm._fake_ipywidgets.HBox object>"
            ]
          },
          "metadata": {
            "tags": []
          }
        },
        {
          "output_type": "stream",
          "text": [
            "\n"
          ],
          "name": "stdout"
        },
        {
          "output_type": "display_data",
          "data": {
            "text/html": [
              "<div style=\"display:flex;flex-direction:row;\"><span>Epoch: 28/100. Iteration: 25/25. Cls loss: 0.12500. Reg loss: 0.19599. Batch loss: 0.32098 Total loss: 0.23796</span><progress style='margin:2px 4px;description_width:initial;' max='25' value='25'></progress>100% 25/25 [00:31&lt;00:00,  1.01s/it]</div>"
            ],
            "text/plain": [
              "<tqdm._fake_ipywidgets.HBox object>"
            ]
          },
          "metadata": {
            "tags": []
          }
        },
        {
          "output_type": "stream",
          "text": [
            "\n"
          ],
          "name": "stdout"
        },
        {
          "output_type": "display_data",
          "data": {
            "text/html": [
              "<div style=\"display:flex;flex-direction:row;\"><span>Epoch: 29/100. Iteration: 25/25. Cls loss: 0.06166. Reg loss: 0.13882. Batch loss: 0.20048 Total loss: 0.24022</span><progress style='margin:2px 4px;description_width:initial;' max='25' value='25'></progress>100% 25/25 [00:31&lt;00:00,  1.01s/it]</div>"
            ],
            "text/plain": [
              "<tqdm._fake_ipywidgets.HBox object>"
            ]
          },
          "metadata": {
            "tags": []
          }
        },
        {
          "output_type": "stream",
          "text": [
            "\n"
          ],
          "name": "stdout"
        },
        {
          "output_type": "display_data",
          "data": {
            "text/html": [
              "<div style=\"display:flex;flex-direction:row;\"><span>Epoch: 30/100. Iteration: 25/25. Cls loss: 0.06190. Reg loss: 0.13799. Batch loss: 0.19989 Total loss: 0.22101</span><progress style='margin:2px 4px;description_width:initial;' max='25' value='25'></progress>100% 25/25 [00:31&lt;00:00,  1.01s/it]</div>"
            ],
            "text/plain": [
              "<tqdm._fake_ipywidgets.HBox object>"
            ]
          },
          "metadata": {
            "tags": []
          }
        },
        {
          "output_type": "stream",
          "text": [
            "\n"
          ],
          "name": "stdout"
        },
        {
          "output_type": "display_data",
          "data": {
            "text/html": [
              "<div style=\"display:flex;flex-direction:row;\"><span>Epoch: 31/100. Iteration: 25/25. Cls loss: 0.06911. Reg loss: 0.18050. Batch loss: 0.24961 Total loss: 0.21116</span><progress style='margin:2px 4px;description_width:initial;' max='25' value='25'></progress>100% 25/25 [00:31&lt;00:00,  1.01s/it]</div>"
            ],
            "text/plain": [
              "<tqdm._fake_ipywidgets.HBox object>"
            ]
          },
          "metadata": {
            "tags": []
          }
        },
        {
          "output_type": "stream",
          "text": [
            "\n"
          ],
          "name": "stdout"
        },
        {
          "output_type": "display_data",
          "data": {
            "text/html": [
              "<div style=\"display:flex;flex-direction:row;\"><span>Epoch: 32/100. Iteration: 25/25. Cls loss: 0.05911. Reg loss: 0.13288. Batch loss: 0.19199 Total loss: 0.21235</span><progress style='margin:2px 4px;description_width:initial;' max='25' value='25'></progress>100% 25/25 [00:31&lt;00:00,  1.01s/it]</div>"
            ],
            "text/plain": [
              "<tqdm._fake_ipywidgets.HBox object>"
            ]
          },
          "metadata": {
            "tags": []
          }
        },
        {
          "output_type": "stream",
          "text": [
            "\n"
          ],
          "name": "stdout"
        },
        {
          "output_type": "display_data",
          "data": {
            "text/html": [
              "<div style=\"display:flex;flex-direction:row;\"><span>Epoch: 33/100. Iteration: 25/25. Cls loss: 0.05057. Reg loss: 0.13473. Batch loss: 0.18530 Total loss: 0.21127</span><progress style='margin:2px 4px;description_width:initial;' max='25' value='25'></progress>100% 25/25 [00:31&lt;00:00,  1.01s/it]</div>"
            ],
            "text/plain": [
              "<tqdm._fake_ipywidgets.HBox object>"
            ]
          },
          "metadata": {
            "tags": []
          }
        },
        {
          "output_type": "stream",
          "text": [
            "\n"
          ],
          "name": "stdout"
        },
        {
          "output_type": "display_data",
          "data": {
            "text/html": [
              "<div style=\"display:flex;flex-direction:row;\"><span>Epoch: 34/100. Iteration: 25/25. Cls loss: 0.05324. Reg loss: 0.13220. Batch loss: 0.18544 Total loss: 0.21272</span><progress style='margin:2px 4px;description_width:initial;' max='25' value='25'></progress>100% 25/25 [00:31&lt;00:00,  1.01s/it]</div>"
            ],
            "text/plain": [
              "<tqdm._fake_ipywidgets.HBox object>"
            ]
          },
          "metadata": {
            "tags": []
          }
        },
        {
          "output_type": "stream",
          "text": [
            "\n"
          ],
          "name": "stdout"
        },
        {
          "output_type": "display_data",
          "data": {
            "text/html": [
              "<div style=\"display:flex;flex-direction:row;\"><span>Epoch: 35/100. Iteration: 25/25. Cls loss: 0.05134. Reg loss: 0.14925. Batch loss: 0.20059 Total loss: 0.20815</span><progress style='margin:2px 4px;description_width:initial;' max='25' value='25'></progress>100% 25/25 [00:31&lt;00:00,  1.01s/it]</div>"
            ],
            "text/plain": [
              "<tqdm._fake_ipywidgets.HBox object>"
            ]
          },
          "metadata": {
            "tags": []
          }
        },
        {
          "output_type": "stream",
          "text": [
            "\n"
          ],
          "name": "stdout"
        },
        {
          "output_type": "display_data",
          "data": {
            "text/html": [
              "<div style=\"display:flex;flex-direction:row;\"><span>Epoch: 36/100. Iteration: 25/25. Cls loss: 0.07115. Reg loss: 0.12059. Batch loss: 0.19174 Total loss: 0.19632</span><progress style='margin:2px 4px;description_width:initial;' max='25' value='25'></progress>100% 25/25 [00:31&lt;00:00,  1.01s/it]</div>"
            ],
            "text/plain": [
              "<tqdm._fake_ipywidgets.HBox object>"
            ]
          },
          "metadata": {
            "tags": []
          }
        },
        {
          "output_type": "stream",
          "text": [
            "\n"
          ],
          "name": "stdout"
        },
        {
          "output_type": "display_data",
          "data": {
            "text/html": [
              "<div style=\"display:flex;flex-direction:row;\"><span>Epoch: 37/100. Iteration: 25/25. Cls loss: 0.05654. Reg loss: 0.13177. Batch loss: 0.18830 Total loss: 0.19462</span><progress style='margin:2px 4px;description_width:initial;' max='25' value='25'></progress>100% 25/25 [00:31&lt;00:00,  1.01s/it]</div>"
            ],
            "text/plain": [
              "<tqdm._fake_ipywidgets.HBox object>"
            ]
          },
          "metadata": {
            "tags": []
          }
        },
        {
          "output_type": "stream",
          "text": [
            "\n"
          ],
          "name": "stdout"
        },
        {
          "output_type": "display_data",
          "data": {
            "text/html": [
              "<div style=\"display:flex;flex-direction:row;\"><span>Epoch: 38/100. Iteration: 25/25. Cls loss: 0.03919. Reg loss: 0.09246. Batch loss: 0.13165 Total loss: 0.18171</span><progress style='margin:2px 4px;description_width:initial;' max='25' value='25'></progress>100% 25/25 [00:30&lt;00:00,  1.01s/it]</div>"
            ],
            "text/plain": [
              "<tqdm._fake_ipywidgets.HBox object>"
            ]
          },
          "metadata": {
            "tags": []
          }
        },
        {
          "output_type": "stream",
          "text": [
            "\n"
          ],
          "name": "stdout"
        },
        {
          "output_type": "display_data",
          "data": {
            "text/html": [
              "<div style=\"display:flex;flex-direction:row;\"><span>Epoch: 39/100. Iteration: 25/25. Cls loss: 0.05051. Reg loss: 0.18672. Batch loss: 0.23723 Total loss: 0.17744</span><progress style='margin:2px 4px;description_width:initial;' max='25' value='25'></progress>100% 25/25 [00:31&lt;00:00,  1.01s/it]</div>"
            ],
            "text/plain": [
              "<tqdm._fake_ipywidgets.HBox object>"
            ]
          },
          "metadata": {
            "tags": []
          }
        },
        {
          "output_type": "stream",
          "text": [
            "\n"
          ],
          "name": "stdout"
        },
        {
          "output_type": "display_data",
          "data": {
            "text/html": [
              "<div style=\"display:flex;flex-direction:row;\"><span>Epoch: 40/100. Iteration: 25/25. Cls loss: 0.04535. Reg loss: 0.17592. Batch loss: 0.22127 Total loss: 0.18012</span><progress style='margin:2px 4px;description_width:initial;' max='25' value='25'></progress>100% 25/25 [00:31&lt;00:00,  1.02s/it]</div>"
            ],
            "text/plain": [
              "<tqdm._fake_ipywidgets.HBox object>"
            ]
          },
          "metadata": {
            "tags": []
          }
        },
        {
          "output_type": "stream",
          "text": [
            "\n"
          ],
          "name": "stdout"
        },
        {
          "output_type": "display_data",
          "data": {
            "text/html": [
              "<div style=\"display:flex;flex-direction:row;\"><span>Epoch: 41/100. Iteration: 25/25. Cls loss: 0.02437. Reg loss: 0.13178. Batch loss: 0.15615 Total loss: 0.18671</span><progress style='margin:2px 4px;description_width:initial;' max='25' value='25'></progress>100% 25/25 [00:31&lt;00:00,  1.02s/it]</div>"
            ],
            "text/plain": [
              "<tqdm._fake_ipywidgets.HBox object>"
            ]
          },
          "metadata": {
            "tags": []
          }
        },
        {
          "output_type": "stream",
          "text": [
            "\n"
          ],
          "name": "stdout"
        },
        {
          "output_type": "display_data",
          "data": {
            "text/html": [
              "<div style=\"display:flex;flex-direction:row;\"><span>Epoch: 42/100. Iteration: 25/25. Cls loss: 0.03840. Reg loss: 0.11608. Batch loss: 0.15448 Total loss: 0.16973</span><progress style='margin:2px 4px;description_width:initial;' max='25' value='25'></progress>100% 25/25 [00:31&lt;00:00,  1.01s/it]</div>"
            ],
            "text/plain": [
              "<tqdm._fake_ipywidgets.HBox object>"
            ]
          },
          "metadata": {
            "tags": []
          }
        },
        {
          "output_type": "stream",
          "text": [
            "\n"
          ],
          "name": "stdout"
        },
        {
          "output_type": "display_data",
          "data": {
            "text/html": [
              "<div style=\"display:flex;flex-direction:row;\"><span>Epoch: 43/100. Iteration: 25/25. Cls loss: 0.03990. Reg loss: 0.12998. Batch loss: 0.16988 Total loss: 0.16386</span><progress style='margin:2px 4px;description_width:initial;' max='25' value='25'></progress>100% 25/25 [00:30&lt;00:00,  1.01s/it]</div>"
            ],
            "text/plain": [
              "<tqdm._fake_ipywidgets.HBox object>"
            ]
          },
          "metadata": {
            "tags": []
          }
        },
        {
          "output_type": "stream",
          "text": [
            "\n"
          ],
          "name": "stdout"
        },
        {
          "output_type": "display_data",
          "data": {
            "text/html": [
              "<div style=\"display:flex;flex-direction:row;\"><span>Epoch: 44/100. Iteration: 25/25. Cls loss: 0.04574. Reg loss: 0.13160. Batch loss: 0.17734 Total loss: 0.16964</span><progress style='margin:2px 4px;description_width:initial;' max='25' value='25'></progress>100% 25/25 [00:31&lt;00:00,  1.01s/it]</div>"
            ],
            "text/plain": [
              "<tqdm._fake_ipywidgets.HBox object>"
            ]
          },
          "metadata": {
            "tags": []
          }
        },
        {
          "output_type": "stream",
          "text": [
            "\n"
          ],
          "name": "stdout"
        },
        {
          "output_type": "display_data",
          "data": {
            "text/html": [
              "<div style=\"display:flex;flex-direction:row;\"><span>Epoch: 45/100. Iteration: 25/25. Cls loss: 0.05076. Reg loss: 0.15229. Batch loss: 0.20305 Total loss: 0.16026</span><progress style='margin:2px 4px;description_width:initial;' max='25' value='25'></progress>100% 25/25 [00:31&lt;00:00,  1.01s/it]</div>"
            ],
            "text/plain": [
              "<tqdm._fake_ipywidgets.HBox object>"
            ]
          },
          "metadata": {
            "tags": []
          }
        },
        {
          "output_type": "stream",
          "text": [
            "\n"
          ],
          "name": "stdout"
        },
        {
          "output_type": "display_data",
          "data": {
            "text/html": [
              "<div style=\"display:flex;flex-direction:row;\"><span>Epoch: 46/100. Iteration: 25/25. Cls loss: 0.03515. Reg loss: 0.16445. Batch loss: 0.19960 Total loss: 0.16440</span><progress style='margin:2px 4px;description_width:initial;' max='25' value='25'></progress>100% 25/25 [00:31&lt;00:00,  1.01s/it]</div>"
            ],
            "text/plain": [
              "<tqdm._fake_ipywidgets.HBox object>"
            ]
          },
          "metadata": {
            "tags": []
          }
        },
        {
          "output_type": "stream",
          "text": [
            "\n"
          ],
          "name": "stdout"
        },
        {
          "output_type": "display_data",
          "data": {
            "text/html": [
              "<div style=\"display:flex;flex-direction:row;\"><span>Epoch: 47/100. Iteration: 25/25. Cls loss: 0.02852. Reg loss: 0.11781. Batch loss: 0.14633 Total loss: 0.15613</span><progress style='margin:2px 4px;description_width:initial;' max='25' value='25'></progress>100% 25/25 [00:31&lt;00:00,  1.01s/it]</div>"
            ],
            "text/plain": [
              "<tqdm._fake_ipywidgets.HBox object>"
            ]
          },
          "metadata": {
            "tags": []
          }
        },
        {
          "output_type": "stream",
          "text": [
            "\n"
          ],
          "name": "stdout"
        },
        {
          "output_type": "display_data",
          "data": {
            "text/html": [
              "<div style=\"display:flex;flex-direction:row;\"><span>Epoch: 48/100. Iteration: 25/25. Cls loss: 0.03233. Reg loss: 0.12772. Batch loss: 0.16005 Total loss: 0.14955</span><progress style='margin:2px 4px;description_width:initial;' max='25' value='25'></progress>100% 25/25 [00:31&lt;00:00,  1.02s/it]</div>"
            ],
            "text/plain": [
              "<tqdm._fake_ipywidgets.HBox object>"
            ]
          },
          "metadata": {
            "tags": []
          }
        },
        {
          "output_type": "stream",
          "text": [
            "\n"
          ],
          "name": "stdout"
        },
        {
          "output_type": "display_data",
          "data": {
            "text/html": [
              "<div style=\"display:flex;flex-direction:row;\"><span>Epoch: 49/100. Iteration: 25/25. Cls loss: 0.02850. Reg loss: 0.12646. Batch loss: 0.15495 Total loss: 0.14826</span><progress style='margin:2px 4px;description_width:initial;' max='25' value='25'></progress>100% 25/25 [00:31&lt;00:00,  1.01s/it]</div>"
            ],
            "text/plain": [
              "<tqdm._fake_ipywidgets.HBox object>"
            ]
          },
          "metadata": {
            "tags": []
          }
        },
        {
          "output_type": "stream",
          "text": [
            "\n"
          ],
          "name": "stdout"
        },
        {
          "output_type": "display_data",
          "data": {
            "text/html": [
              "<div style=\"display:flex;flex-direction:row;\"><span>Epoch: 50/100. Iteration: 25/25. Cls loss: 0.03079. Reg loss: 0.11647. Batch loss: 0.14726 Total loss: 0.15103</span><progress style='margin:2px 4px;description_width:initial;' max='25' value='25'></progress>100% 25/25 [00:31&lt;00:00,  1.01s/it]</div>"
            ],
            "text/plain": [
              "<tqdm._fake_ipywidgets.HBox object>"
            ]
          },
          "metadata": {
            "tags": []
          }
        },
        {
          "output_type": "stream",
          "text": [
            "\n"
          ],
          "name": "stdout"
        },
        {
          "output_type": "display_data",
          "data": {
            "text/html": [
              "<div style=\"display:flex;flex-direction:row;\"><span>Epoch: 51/100. Iteration: 25/25. Cls loss: 0.03174. Reg loss: 0.14614. Batch loss: 0.17788 Total loss: 0.14153</span><progress style='margin:2px 4px;description_width:initial;' max='25' value='25'></progress>100% 25/25 [00:31&lt;00:00,  1.02s/it]</div>"
            ],
            "text/plain": [
              "<tqdm._fake_ipywidgets.HBox object>"
            ]
          },
          "metadata": {
            "tags": []
          }
        },
        {
          "output_type": "stream",
          "text": [
            "\n"
          ],
          "name": "stdout"
        },
        {
          "output_type": "display_data",
          "data": {
            "text/html": [
              "<div style=\"display:flex;flex-direction:row;\"><span>Epoch: 52/100. Iteration: 25/25. Cls loss: 0.01377. Reg loss: 0.08134. Batch loss: 0.09511 Total loss: 0.15297</span><progress style='margin:2px 4px;description_width:initial;' max='25' value='25'></progress>100% 25/25 [00:31&lt;00:00,  1.01s/it]</div>"
            ],
            "text/plain": [
              "<tqdm._fake_ipywidgets.HBox object>"
            ]
          },
          "metadata": {
            "tags": []
          }
        },
        {
          "output_type": "stream",
          "text": [
            "\n"
          ],
          "name": "stdout"
        },
        {
          "output_type": "display_data",
          "data": {
            "text/html": [
              "<div style=\"display:flex;flex-direction:row;\"><span>Epoch: 53/100. Iteration: 25/25. Cls loss: 0.01675. Reg loss: 0.10925. Batch loss: 0.12600 Total loss: 0.14114</span><progress style='margin:2px 4px;description_width:initial;' max='25' value='25'></progress>100% 25/25 [00:31&lt;00:00,  1.01s/it]</div>"
            ],
            "text/plain": [
              "<tqdm._fake_ipywidgets.HBox object>"
            ]
          },
          "metadata": {
            "tags": []
          }
        },
        {
          "output_type": "stream",
          "text": [
            "\n"
          ],
          "name": "stdout"
        },
        {
          "output_type": "display_data",
          "data": {
            "text/html": [
              "<div style=\"display:flex;flex-direction:row;\"><span>Epoch: 54/100. Iteration: 25/25. Cls loss: 0.02049. Reg loss: 0.09932. Batch loss: 0.11981 Total loss: 0.13685</span><progress style='margin:2px 4px;description_width:initial;' max='25' value='25'></progress>100% 25/25 [00:31&lt;00:00,  1.01s/it]</div>"
            ],
            "text/plain": [
              "<tqdm._fake_ipywidgets.HBox object>"
            ]
          },
          "metadata": {
            "tags": []
          }
        },
        {
          "output_type": "stream",
          "text": [
            "\n"
          ],
          "name": "stdout"
        },
        {
          "output_type": "display_data",
          "data": {
            "text/html": [
              "<div style=\"display:flex;flex-direction:row;\"><span>Epoch: 55/100. Iteration: 25/25. Cls loss: 0.01978. Reg loss: 0.09307. Batch loss: 0.11285 Total loss: 0.13954</span><progress style='margin:2px 4px;description_width:initial;' max='25' value='25'></progress>100% 25/25 [00:31&lt;00:00,  1.01s/it]</div>"
            ],
            "text/plain": [
              "<tqdm._fake_ipywidgets.HBox object>"
            ]
          },
          "metadata": {
            "tags": []
          }
        },
        {
          "output_type": "stream",
          "text": [
            "\n"
          ],
          "name": "stdout"
        },
        {
          "output_type": "display_data",
          "data": {
            "text/html": [
              "<div style=\"display:flex;flex-direction:row;\"><span>Epoch: 56/100. Iteration: 25/25. Cls loss: 0.01857. Reg loss: 0.08244. Batch loss: 0.10101 Total loss: 0.13741</span><progress style='margin:2px 4px;description_width:initial;' max='25' value='25'></progress>100% 25/25 [00:31&lt;00:00,  1.01s/it]</div>"
            ],
            "text/plain": [
              "<tqdm._fake_ipywidgets.HBox object>"
            ]
          },
          "metadata": {
            "tags": []
          }
        },
        {
          "output_type": "stream",
          "text": [
            "\n"
          ],
          "name": "stdout"
        },
        {
          "output_type": "display_data",
          "data": {
            "text/html": [
              "<div style=\"display:flex;flex-direction:row;\"><span>Epoch: 57/100. Iteration: 25/25. Cls loss: 0.01653. Reg loss: 0.08017. Batch loss: 0.09671 Total loss: 0.13065</span><progress style='margin:2px 4px;description_width:initial;' max='25' value='25'></progress>100% 25/25 [00:31&lt;00:00,  1.01s/it]</div>"
            ],
            "text/plain": [
              "<tqdm._fake_ipywidgets.HBox object>"
            ]
          },
          "metadata": {
            "tags": []
          }
        },
        {
          "output_type": "stream",
          "text": [
            "\n"
          ],
          "name": "stdout"
        },
        {
          "output_type": "display_data",
          "data": {
            "text/html": [
              "<div style=\"display:flex;flex-direction:row;\"><span>Epoch: 58/100. Iteration: 25/25. Cls loss: 0.03020. Reg loss: 0.13986. Batch loss: 0.17006 Total loss: 0.14324</span><progress style='margin:2px 4px;description_width:initial;' max='25' value='25'></progress>100% 25/25 [00:31&lt;00:00,  1.02s/it]</div>"
            ],
            "text/plain": [
              "<tqdm._fake_ipywidgets.HBox object>"
            ]
          },
          "metadata": {
            "tags": []
          }
        },
        {
          "output_type": "stream",
          "text": [
            "\n"
          ],
          "name": "stdout"
        },
        {
          "output_type": "display_data",
          "data": {
            "text/html": [
              "<div style=\"display:flex;flex-direction:row;\"><span>Epoch: 59/100. Iteration: 25/25. Cls loss: 0.01586. Reg loss: 0.10978. Batch loss: 0.12564 Total loss: 0.13922</span><progress style='margin:2px 4px;description_width:initial;' max='25' value='25'></progress>100% 25/25 [00:31&lt;00:00,  1.02s/it]</div>"
            ],
            "text/plain": [
              "<tqdm._fake_ipywidgets.HBox object>"
            ]
          },
          "metadata": {
            "tags": []
          }
        },
        {
          "output_type": "stream",
          "text": [
            "\n"
          ],
          "name": "stdout"
        },
        {
          "output_type": "display_data",
          "data": {
            "text/html": [
              "<div style=\"display:flex;flex-direction:row;\"><span>Epoch: 60/100. Iteration: 25/25. Cls loss: 0.01771. Reg loss: 0.09545. Batch loss: 0.11316 Total loss: 0.12462</span><progress style='margin:2px 4px;description_width:initial;' max='25' value='25'></progress>100% 25/25 [00:31&lt;00:00,  1.01s/it]</div>"
            ],
            "text/plain": [
              "<tqdm._fake_ipywidgets.HBox object>"
            ]
          },
          "metadata": {
            "tags": []
          }
        },
        {
          "output_type": "stream",
          "text": [
            "\n"
          ],
          "name": "stdout"
        },
        {
          "output_type": "display_data",
          "data": {
            "text/html": [
              "<div style=\"display:flex;flex-direction:row;\"><span>Epoch: 61/100. Iteration: 25/25. Cls loss: 0.02685. Reg loss: 0.12637. Batch loss: 0.15322 Total loss: 0.13097</span><progress style='margin:2px 4px;description_width:initial;' max='25' value='25'></progress>100% 25/25 [00:31&lt;00:00,  1.01s/it]</div>"
            ],
            "text/plain": [
              "<tqdm._fake_ipywidgets.HBox object>"
            ]
          },
          "metadata": {
            "tags": []
          }
        },
        {
          "output_type": "stream",
          "text": [
            "\n"
          ],
          "name": "stdout"
        },
        {
          "output_type": "display_data",
          "data": {
            "text/html": [
              "<div style=\"display:flex;flex-direction:row;\"><span>Epoch: 62/100. Iteration: 25/25. Cls loss: 0.02039. Reg loss: 0.14084. Batch loss: 0.16124 Total loss: 0.12929</span><progress style='margin:2px 4px;description_width:initial;' max='25' value='25'></progress>100% 25/25 [00:31&lt;00:00,  1.02s/it]</div>"
            ],
            "text/plain": [
              "<tqdm._fake_ipywidgets.HBox object>"
            ]
          },
          "metadata": {
            "tags": []
          }
        },
        {
          "output_type": "stream",
          "text": [
            "\n"
          ],
          "name": "stdout"
        },
        {
          "output_type": "display_data",
          "data": {
            "text/html": [
              "<div style=\"display:flex;flex-direction:row;\"><span>Epoch: 63/100. Iteration: 25/25. Cls loss: 0.01674. Reg loss: 0.09870. Batch loss: 0.11544 Total loss: 0.12546</span><progress style='margin:2px 4px;description_width:initial;' max='25' value='25'></progress>100% 25/25 [00:31&lt;00:00,  1.01s/it]</div>"
            ],
            "text/plain": [
              "<tqdm._fake_ipywidgets.HBox object>"
            ]
          },
          "metadata": {
            "tags": []
          }
        },
        {
          "output_type": "stream",
          "text": [
            "\n"
          ],
          "name": "stdout"
        },
        {
          "output_type": "display_data",
          "data": {
            "text/html": [
              "<div style=\"display:flex;flex-direction:row;\"><span>Epoch: 64/100. Iteration: 25/25. Cls loss: 0.01579. Reg loss: 0.10720. Batch loss: 0.12299 Total loss: 0.12953</span><progress style='margin:2px 4px;description_width:initial;' max='25' value='25'></progress>100% 25/25 [00:31&lt;00:00,  1.01s/it]</div>"
            ],
            "text/plain": [
              "<tqdm._fake_ipywidgets.HBox object>"
            ]
          },
          "metadata": {
            "tags": []
          }
        },
        {
          "output_type": "stream",
          "text": [
            "\n",
            "Epoch    64: reducing learning rate of group 0 to 1.0000e-05.\n"
          ],
          "name": "stdout"
        },
        {
          "output_type": "display_data",
          "data": {
            "text/html": [
              "<div style=\"display:flex;flex-direction:row;\"><span>Epoch: 65/100. Iteration: 25/25. Cls loss: 0.02757. Reg loss: 0.11404. Batch loss: 0.14161 Total loss: 0.11359</span><progress style='margin:2px 4px;description_width:initial;' max='25' value='25'></progress>100% 25/25 [00:31&lt;00:00,  1.01s/it]</div>"
            ],
            "text/plain": [
              "<tqdm._fake_ipywidgets.HBox object>"
            ]
          },
          "metadata": {
            "tags": []
          }
        },
        {
          "output_type": "stream",
          "text": [
            "\n"
          ],
          "name": "stdout"
        },
        {
          "output_type": "display_data",
          "data": {
            "text/html": [
              "<div style=\"display:flex;flex-direction:row;\"><span>Epoch: 66/100. Iteration: 25/25. Cls loss: 0.01475. Reg loss: 0.05965. Batch loss: 0.07440 Total loss: 0.10776</span><progress style='margin:2px 4px;description_width:initial;' max='25' value='25'></progress>100% 25/25 [00:31&lt;00:00,  1.01s/it]</div>"
            ],
            "text/plain": [
              "<tqdm._fake_ipywidgets.HBox object>"
            ]
          },
          "metadata": {
            "tags": []
          }
        },
        {
          "output_type": "stream",
          "text": [
            "\n"
          ],
          "name": "stdout"
        },
        {
          "output_type": "display_data",
          "data": {
            "text/html": [
              "<div style=\"display:flex;flex-direction:row;\"><span>Epoch: 67/100. Iteration: 25/25. Cls loss: 0.02474. Reg loss: 0.09736. Batch loss: 0.12210 Total loss: 0.10829</span><progress style='margin:2px 4px;description_width:initial;' max='25' value='25'></progress>100% 25/25 [00:31&lt;00:00,  1.01s/it]</div>"
            ],
            "text/plain": [
              "<tqdm._fake_ipywidgets.HBox object>"
            ]
          },
          "metadata": {
            "tags": []
          }
        },
        {
          "output_type": "stream",
          "text": [
            "\n"
          ],
          "name": "stdout"
        },
        {
          "output_type": "display_data",
          "data": {
            "text/html": [
              "<div style=\"display:flex;flex-direction:row;\"><span>Epoch: 68/100. Iteration: 25/25. Cls loss: 0.02039. Reg loss: 0.10608. Batch loss: 0.12647 Total loss: 0.11008</span><progress style='margin:2px 4px;description_width:initial;' max='25' value='25'></progress>100% 25/25 [00:31&lt;00:00,  1.01s/it]</div>"
            ],
            "text/plain": [
              "<tqdm._fake_ipywidgets.HBox object>"
            ]
          },
          "metadata": {
            "tags": []
          }
        },
        {
          "output_type": "stream",
          "text": [
            "\n"
          ],
          "name": "stdout"
        },
        {
          "output_type": "display_data",
          "data": {
            "text/html": [
              "<div style=\"display:flex;flex-direction:row;\"><span>Epoch: 69/100. Iteration: 25/25. Cls loss: 0.01775. Reg loss: 0.07668. Batch loss: 0.09443 Total loss: 0.10567</span><progress style='margin:2px 4px;description_width:initial;' max='25' value='25'></progress>100% 25/25 [00:31&lt;00:00,  1.01s/it]</div>"
            ],
            "text/plain": [
              "<tqdm._fake_ipywidgets.HBox object>"
            ]
          },
          "metadata": {
            "tags": []
          }
        },
        {
          "output_type": "stream",
          "text": [
            "\n"
          ],
          "name": "stdout"
        },
        {
          "output_type": "display_data",
          "data": {
            "text/html": [
              "<div style=\"display:flex;flex-direction:row;\"><span>Epoch: 70/100. Iteration: 25/25. Cls loss: 0.01366. Reg loss: 0.07188. Batch loss: 0.08554 Total loss: 0.10485</span><progress style='margin:2px 4px;description_width:initial;' max='25' value='25'></progress>100% 25/25 [00:31&lt;00:00,  1.02s/it]</div>"
            ],
            "text/plain": [
              "<tqdm._fake_ipywidgets.HBox object>"
            ]
          },
          "metadata": {
            "tags": []
          }
        },
        {
          "output_type": "stream",
          "text": [
            "\n"
          ],
          "name": "stdout"
        },
        {
          "output_type": "display_data",
          "data": {
            "text/html": [
              "<div style=\"display:flex;flex-direction:row;\"><span>Epoch: 71/100. Iteration: 25/25. Cls loss: 0.00881. Reg loss: 0.06844. Batch loss: 0.07725 Total loss: 0.10544</span><progress style='margin:2px 4px;description_width:initial;' max='25' value='25'></progress>100% 25/25 [00:31&lt;00:00,  1.01s/it]</div>"
            ],
            "text/plain": [
              "<tqdm._fake_ipywidgets.HBox object>"
            ]
          },
          "metadata": {
            "tags": []
          }
        },
        {
          "output_type": "stream",
          "text": [
            "\n"
          ],
          "name": "stdout"
        },
        {
          "output_type": "display_data",
          "data": {
            "text/html": [
              "<div style=\"display:flex;flex-direction:row;\"><span>Epoch: 72/100. Iteration: 25/25. Cls loss: 0.02508. Reg loss: 0.11643. Batch loss: 0.14151 Total loss: 0.10872</span><progress style='margin:2px 4px;description_width:initial;' max='25' value='25'></progress>100% 25/25 [00:31&lt;00:00,  1.02s/it]</div>"
            ],
            "text/plain": [
              "<tqdm._fake_ipywidgets.HBox object>"
            ]
          },
          "metadata": {
            "tags": []
          }
        },
        {
          "output_type": "stream",
          "text": [
            "\n"
          ],
          "name": "stdout"
        },
        {
          "output_type": "display_data",
          "data": {
            "text/html": [
              "<div style=\"display:flex;flex-direction:row;\"><span>Epoch: 73/100. Iteration: 25/25. Cls loss: 0.01058. Reg loss: 0.07569. Batch loss: 0.08628 Total loss: 0.10196</span><progress style='margin:2px 4px;description_width:initial;' max='25' value='25'></progress>100% 25/25 [00:31&lt;00:00,  1.01s/it]</div>"
            ],
            "text/plain": [
              "<tqdm._fake_ipywidgets.HBox object>"
            ]
          },
          "metadata": {
            "tags": []
          }
        },
        {
          "output_type": "stream",
          "text": [
            "\n"
          ],
          "name": "stdout"
        },
        {
          "output_type": "display_data",
          "data": {
            "text/html": [
              "<div style=\"display:flex;flex-direction:row;\"><span>Epoch: 74/100. Iteration: 25/25. Cls loss: 0.00986. Reg loss: 0.05259. Batch loss: 0.06245 Total loss: 0.10478</span><progress style='margin:2px 4px;description_width:initial;' max='25' value='25'></progress>100% 25/25 [00:31&lt;00:00,  1.01s/it]</div>"
            ],
            "text/plain": [
              "<tqdm._fake_ipywidgets.HBox object>"
            ]
          },
          "metadata": {
            "tags": []
          }
        },
        {
          "output_type": "stream",
          "text": [
            "\n"
          ],
          "name": "stdout"
        },
        {
          "output_type": "display_data",
          "data": {
            "text/html": [
              "<div style=\"display:flex;flex-direction:row;\"><span>Epoch: 75/100. Iteration: 25/25. Cls loss: 0.03813. Reg loss: 0.15602. Batch loss: 0.19415 Total loss: 0.10448</span><progress style='margin:2px 4px;description_width:initial;' max='25' value='25'></progress>100% 25/25 [00:31&lt;00:00,  1.01s/it]</div>"
            ],
            "text/plain": [
              "<tqdm._fake_ipywidgets.HBox object>"
            ]
          },
          "metadata": {
            "tags": []
          }
        },
        {
          "output_type": "stream",
          "text": [
            "\n"
          ],
          "name": "stdout"
        },
        {
          "output_type": "display_data",
          "data": {
            "text/html": [
              "<div style=\"display:flex;flex-direction:row;\"><span>Epoch: 76/100. Iteration: 25/25. Cls loss: 0.01946. Reg loss: 0.07778. Batch loss: 0.09724 Total loss: 0.10644</span><progress style='margin:2px 4px;description_width:initial;' max='25' value='25'></progress>100% 25/25 [00:31&lt;00:00,  1.01s/it]</div>"
            ],
            "text/plain": [
              "<tqdm._fake_ipywidgets.HBox object>"
            ]
          },
          "metadata": {
            "tags": []
          }
        },
        {
          "output_type": "stream",
          "text": [
            "\n"
          ],
          "name": "stdout"
        },
        {
          "output_type": "display_data",
          "data": {
            "text/html": [
              "<div style=\"display:flex;flex-direction:row;\"><span>Epoch: 77/100. Iteration: 25/25. Cls loss: 0.01527. Reg loss: 0.09665. Batch loss: 0.11191 Total loss: 0.09801</span><progress style='margin:2px 4px;description_width:initial;' max='25' value='25'></progress>100% 25/25 [00:31&lt;00:00,  1.02s/it]</div>"
            ],
            "text/plain": [
              "<tqdm._fake_ipywidgets.HBox object>"
            ]
          },
          "metadata": {
            "tags": []
          }
        },
        {
          "output_type": "stream",
          "text": [
            "\n"
          ],
          "name": "stdout"
        },
        {
          "output_type": "display_data",
          "data": {
            "text/html": [
              "<div style=\"display:flex;flex-direction:row;\"><span>Epoch: 78/100. Iteration: 25/25. Cls loss: 0.01751. Reg loss: 0.06299. Batch loss: 0.08050 Total loss: 0.10109</span><progress style='margin:2px 4px;description_width:initial;' max='25' value='25'></progress>100% 25/25 [00:31&lt;00:00,  1.01s/it]</div>"
            ],
            "text/plain": [
              "<tqdm._fake_ipywidgets.HBox object>"
            ]
          },
          "metadata": {
            "tags": []
          }
        },
        {
          "output_type": "stream",
          "text": [
            "\n"
          ],
          "name": "stdout"
        },
        {
          "output_type": "display_data",
          "data": {
            "text/html": [
              "<div style=\"display:flex;flex-direction:row;\"><span>Epoch: 79/100. Iteration: 25/25. Cls loss: 0.01378. Reg loss: 0.05504. Batch loss: 0.06883 Total loss: 0.10279</span><progress style='margin:2px 4px;description_width:initial;' max='25' value='25'></progress>100% 25/25 [00:31&lt;00:00,  1.02s/it]</div>"
            ],
            "text/plain": [
              "<tqdm._fake_ipywidgets.HBox object>"
            ]
          },
          "metadata": {
            "tags": []
          }
        },
        {
          "output_type": "stream",
          "text": [
            "\n"
          ],
          "name": "stdout"
        },
        {
          "output_type": "display_data",
          "data": {
            "text/html": [
              "<div style=\"display:flex;flex-direction:row;\"><span>Epoch: 80/100. Iteration: 25/25. Cls loss: 0.00780. Reg loss: 0.06125. Batch loss: 0.06905 Total loss: 0.09930</span><progress style='margin:2px 4px;description_width:initial;' max='25' value='25'></progress>100% 25/25 [00:31&lt;00:00,  1.01s/it]</div>"
            ],
            "text/plain": [
              "<tqdm._fake_ipywidgets.HBox object>"
            ]
          },
          "metadata": {
            "tags": []
          }
        },
        {
          "output_type": "stream",
          "text": [
            "\n"
          ],
          "name": "stdout"
        },
        {
          "output_type": "display_data",
          "data": {
            "text/html": [
              "<div style=\"display:flex;flex-direction:row;\"><span>Epoch: 81/100. Iteration: 25/25. Cls loss: 0.01487. Reg loss: 0.08665. Batch loss: 0.10152 Total loss: 0.09959</span><progress style='margin:2px 4px;description_width:initial;' max='25' value='25'></progress>100% 25/25 [00:31&lt;00:00,  1.01s/it]</div>"
            ],
            "text/plain": [
              "<tqdm._fake_ipywidgets.HBox object>"
            ]
          },
          "metadata": {
            "tags": []
          }
        },
        {
          "output_type": "stream",
          "text": [
            "\n",
            "Epoch    81: reducing learning rate of group 0 to 1.0000e-06.\n"
          ],
          "name": "stdout"
        },
        {
          "output_type": "display_data",
          "data": {
            "text/html": [
              "<div style=\"display:flex;flex-direction:row;\"><span>Epoch: 82/100. Iteration: 25/25. Cls loss: 0.01874. Reg loss: 0.08523. Batch loss: 0.10397 Total loss: 0.10334</span><progress style='margin:2px 4px;description_width:initial;' max='25' value='25'></progress>100% 25/25 [00:31&lt;00:00,  1.02s/it]</div>"
            ],
            "text/plain": [
              "<tqdm._fake_ipywidgets.HBox object>"
            ]
          },
          "metadata": {
            "tags": []
          }
        },
        {
          "output_type": "stream",
          "text": [
            "\n"
          ],
          "name": "stdout"
        },
        {
          "output_type": "display_data",
          "data": {
            "text/html": [
              "<div style=\"display:flex;flex-direction:row;\"><span>Epoch: 83/100. Iteration: 25/25. Cls loss: 0.01960. Reg loss: 0.05640. Batch loss: 0.07600 Total loss: 0.09810</span><progress style='margin:2px 4px;description_width:initial;' max='25' value='25'></progress>100% 25/25 [00:31&lt;00:00,  1.01s/it]</div>"
            ],
            "text/plain": [
              "<tqdm._fake_ipywidgets.HBox object>"
            ]
          },
          "metadata": {
            "tags": []
          }
        },
        {
          "output_type": "stream",
          "text": [
            "\n"
          ],
          "name": "stdout"
        },
        {
          "output_type": "display_data",
          "data": {
            "text/html": [
              "<div style=\"display:flex;flex-direction:row;\"><span>Epoch: 84/100. Iteration: 25/25. Cls loss: 0.00999. Reg loss: 0.05963. Batch loss: 0.06963 Total loss: 0.09738</span><progress style='margin:2px 4px;description_width:initial;' max='25' value='25'></progress>100% 25/25 [00:31&lt;00:00,  1.01s/it]</div>"
            ],
            "text/plain": [
              "<tqdm._fake_ipywidgets.HBox object>"
            ]
          },
          "metadata": {
            "tags": []
          }
        },
        {
          "output_type": "stream",
          "text": [
            "\n"
          ],
          "name": "stdout"
        },
        {
          "output_type": "display_data",
          "data": {
            "text/html": [
              "<div style=\"display:flex;flex-direction:row;\"><span>Epoch: 85/100. Iteration: 25/25. Cls loss: 0.03240. Reg loss: 0.12359. Batch loss: 0.15599 Total loss: 0.10049</span><progress style='margin:2px 4px;description_width:initial;' max='25' value='25'></progress>100% 25/25 [00:31&lt;00:00,  1.01s/it]</div>"
            ],
            "text/plain": [
              "<tqdm._fake_ipywidgets.HBox object>"
            ]
          },
          "metadata": {
            "tags": []
          }
        },
        {
          "output_type": "stream",
          "text": [
            "\n"
          ],
          "name": "stdout"
        },
        {
          "output_type": "display_data",
          "data": {
            "text/html": [
              "<div style=\"display:flex;flex-direction:row;\"><span>Epoch: 86/100. Iteration: 25/25. Cls loss: 0.02689. Reg loss: 0.07712. Batch loss: 0.10401 Total loss: 0.09946</span><progress style='margin:2px 4px;description_width:initial;' max='25' value='25'></progress>100% 25/25 [00:31&lt;00:00,  1.01s/it]</div>"
            ],
            "text/plain": [
              "<tqdm._fake_ipywidgets.HBox object>"
            ]
          },
          "metadata": {
            "tags": []
          }
        },
        {
          "output_type": "stream",
          "text": [
            "\n"
          ],
          "name": "stdout"
        },
        {
          "output_type": "display_data",
          "data": {
            "text/html": [
              "<div style=\"display:flex;flex-direction:row;\"><span>Epoch: 87/100. Iteration: 25/25. Cls loss: 0.01650. Reg loss: 0.08274. Batch loss: 0.09924 Total loss: 0.10021</span><progress style='margin:2px 4px;description_width:initial;' max='25' value='25'></progress>100% 25/25 [00:31&lt;00:00,  1.01s/it]</div>"
            ],
            "text/plain": [
              "<tqdm._fake_ipywidgets.HBox object>"
            ]
          },
          "metadata": {
            "tags": []
          }
        },
        {
          "output_type": "stream",
          "text": [
            "\n"
          ],
          "name": "stdout"
        },
        {
          "output_type": "display_data",
          "data": {
            "text/html": [
              "<div style=\"display:flex;flex-direction:row;\"><span>Epoch: 88/100. Iteration: 25/25. Cls loss: 0.01101. Reg loss: 0.07360. Batch loss: 0.08461 Total loss: 0.09565</span><progress style='margin:2px 4px;description_width:initial;' max='25' value='25'></progress>100% 25/25 [00:31&lt;00:00,  1.01s/it]</div>"
            ],
            "text/plain": [
              "<tqdm._fake_ipywidgets.HBox object>"
            ]
          },
          "metadata": {
            "tags": []
          }
        },
        {
          "output_type": "stream",
          "text": [
            "\n"
          ],
          "name": "stdout"
        },
        {
          "output_type": "display_data",
          "data": {
            "text/html": [
              "<div style=\"display:flex;flex-direction:row;\"><span>Epoch: 89/100. Iteration: 25/25. Cls loss: 0.02431. Reg loss: 0.07285. Batch loss: 0.09716 Total loss: 0.09852</span><progress style='margin:2px 4px;description_width:initial;' max='25' value='25'></progress>100% 25/25 [00:31&lt;00:00,  1.01s/it]</div>"
            ],
            "text/plain": [
              "<tqdm._fake_ipywidgets.HBox object>"
            ]
          },
          "metadata": {
            "tags": []
          }
        },
        {
          "output_type": "stream",
          "text": [
            "\n"
          ],
          "name": "stdout"
        },
        {
          "output_type": "display_data",
          "data": {
            "text/html": [
              "<div style=\"display:flex;flex-direction:row;\"><span>Epoch: 90/100. Iteration: 25/25. Cls loss: 0.02199. Reg loss: 0.11210. Batch loss: 0.13409 Total loss: 0.09835</span><progress style='margin:2px 4px;description_width:initial;' max='25' value='25'></progress>100% 25/25 [00:31&lt;00:00,  1.01s/it]</div>"
            ],
            "text/plain": [
              "<tqdm._fake_ipywidgets.HBox object>"
            ]
          },
          "metadata": {
            "tags": []
          }
        },
        {
          "output_type": "stream",
          "text": [
            "\n"
          ],
          "name": "stdout"
        },
        {
          "output_type": "display_data",
          "data": {
            "text/html": [
              "<div style=\"display:flex;flex-direction:row;\"><span>Epoch: 91/100. Iteration: 25/25. Cls loss: 0.00594. Reg loss: 0.04693. Batch loss: 0.05287 Total loss: 0.09697</span><progress style='margin:2px 4px;description_width:initial;' max='25' value='25'></progress>100% 25/25 [00:31&lt;00:00,  1.01s/it]</div>"
            ],
            "text/plain": [
              "<tqdm._fake_ipywidgets.HBox object>"
            ]
          },
          "metadata": {
            "tags": []
          }
        },
        {
          "output_type": "stream",
          "text": [
            "\n"
          ],
          "name": "stdout"
        },
        {
          "output_type": "display_data",
          "data": {
            "text/html": [
              "<div style=\"display:flex;flex-direction:row;\"><span>Epoch: 92/100. Iteration: 25/25. Cls loss: 0.01712. Reg loss: 0.06802. Batch loss: 0.08514 Total loss: 0.10119</span><progress style='margin:2px 4px;description_width:initial;' max='25' value='25'></progress>100% 25/25 [00:31&lt;00:00,  1.01s/it]</div>"
            ],
            "text/plain": [
              "<tqdm._fake_ipywidgets.HBox object>"
            ]
          },
          "metadata": {
            "tags": []
          }
        },
        {
          "output_type": "stream",
          "text": [
            "\n",
            "Epoch    92: reducing learning rate of group 0 to 1.0000e-07.\n"
          ],
          "name": "stdout"
        },
        {
          "output_type": "display_data",
          "data": {
            "text/html": [
              "<div style=\"display:flex;flex-direction:row;\"><span>Epoch: 93/100. Iteration: 25/25. Cls loss: 0.01863. Reg loss: 0.09208. Batch loss: 0.11071 Total loss: 0.09697</span><progress style='margin:2px 4px;description_width:initial;' max='25' value='25'></progress>100% 25/25 [00:31&lt;00:00,  1.01s/it]</div>"
            ],
            "text/plain": [
              "<tqdm._fake_ipywidgets.HBox object>"
            ]
          },
          "metadata": {
            "tags": []
          }
        },
        {
          "output_type": "stream",
          "text": [
            "\n"
          ],
          "name": "stdout"
        },
        {
          "output_type": "display_data",
          "data": {
            "text/html": [
              "<div style=\"display:flex;flex-direction:row;\"><span>Epoch: 94/100. Iteration: 25/25. Cls loss: 0.02118. Reg loss: 0.08023. Batch loss: 0.10141 Total loss: 0.09807</span><progress style='margin:2px 4px;description_width:initial;' max='25' value='25'></progress>100% 25/25 [00:31&lt;00:00,  1.01s/it]</div>"
            ],
            "text/plain": [
              "<tqdm._fake_ipywidgets.HBox object>"
            ]
          },
          "metadata": {
            "tags": []
          }
        },
        {
          "output_type": "stream",
          "text": [
            "\n"
          ],
          "name": "stdout"
        },
        {
          "output_type": "display_data",
          "data": {
            "text/html": [
              "<div style=\"display:flex;flex-direction:row;\"><span>Epoch: 95/100. Iteration: 25/25. Cls loss: 0.01216. Reg loss: 0.07775. Batch loss: 0.08991 Total loss: 0.09611</span><progress style='margin:2px 4px;description_width:initial;' max='25' value='25'></progress>100% 25/25 [00:31&lt;00:00,  1.01s/it]</div>"
            ],
            "text/plain": [
              "<tqdm._fake_ipywidgets.HBox object>"
            ]
          },
          "metadata": {
            "tags": []
          }
        },
        {
          "output_type": "stream",
          "text": [
            "\n"
          ],
          "name": "stdout"
        },
        {
          "output_type": "display_data",
          "data": {
            "text/html": [
              "<div style=\"display:flex;flex-direction:row;\"><span>Epoch: 96/100. Iteration: 25/25. Cls loss: 0.02161. Reg loss: 0.10703. Batch loss: 0.12864 Total loss: 0.10062</span><progress style='margin:2px 4px;description_width:initial;' max='25' value='25'></progress>100% 25/25 [00:31&lt;00:00,  1.01s/it]</div>"
            ],
            "text/plain": [
              "<tqdm._fake_ipywidgets.HBox object>"
            ]
          },
          "metadata": {
            "tags": []
          }
        },
        {
          "output_type": "stream",
          "text": [
            "\n",
            "Epoch    96: reducing learning rate of group 0 to 1.0000e-08.\n"
          ],
          "name": "stdout"
        },
        {
          "output_type": "display_data",
          "data": {
            "text/html": [
              "<div style=\"display:flex;flex-direction:row;\"><span>Epoch: 97/100. Iteration: 25/25. Cls loss: 0.01626. Reg loss: 0.07339. Batch loss: 0.08966 Total loss: 0.09670</span><progress style='margin:2px 4px;description_width:initial;' max='25' value='25'></progress>100% 25/25 [00:31&lt;00:00,  1.02s/it]</div>"
            ],
            "text/plain": [
              "<tqdm._fake_ipywidgets.HBox object>"
            ]
          },
          "metadata": {
            "tags": []
          }
        },
        {
          "output_type": "stream",
          "text": [
            "\n"
          ],
          "name": "stdout"
        },
        {
          "output_type": "display_data",
          "data": {
            "text/html": [
              "<div style=\"display:flex;flex-direction:row;\"><span>Epoch: 98/100. Iteration: 25/25. Cls loss: 0.01166. Reg loss: 0.07474. Batch loss: 0.08641 Total loss: 0.09663</span><progress style='margin:2px 4px;description_width:initial;' max='25' value='25'></progress>100% 25/25 [00:31&lt;00:00,  1.02s/it]</div>"
            ],
            "text/plain": [
              "<tqdm._fake_ipywidgets.HBox object>"
            ]
          },
          "metadata": {
            "tags": []
          }
        },
        {
          "output_type": "stream",
          "text": [
            "\n"
          ],
          "name": "stdout"
        },
        {
          "output_type": "display_data",
          "data": {
            "text/html": [
              "<div style=\"display:flex;flex-direction:row;\"><span>Epoch: 99/100. Iteration: 25/25. Cls loss: 0.02198. Reg loss: 0.08263. Batch loss: 0.10461 Total loss: 0.09983</span><progress style='margin:2px 4px;description_width:initial;' max='25' value='25'></progress>100% 25/25 [00:31&lt;00:00,  1.01s/it]</div>"
            ],
            "text/plain": [
              "<tqdm._fake_ipywidgets.HBox object>"
            ]
          },
          "metadata": {
            "tags": []
          }
        },
        {
          "output_type": "stream",
          "text": [
            "\n"
          ],
          "name": "stdout"
        },
        {
          "output_type": "display_data",
          "data": {
            "text/html": [
              "<div style=\"display:flex;flex-direction:row;\"><span>Epoch: 100/100. Iteration: 25/25. Cls loss: 0.01252. Reg loss: 0.08087. Batch loss: 0.09339 Total loss: 0.10469</span><progress style='margin:2px 4px;description_width:initial;' max='25' value='25'></progress>100% 25/25 [00:31&lt;00:00,  1.01s/it]</div>"
            ],
            "text/plain": [
              "<tqdm._fake_ipywidgets.HBox object>"
            ]
          },
          "metadata": {
            "tags": []
          }
        },
        {
          "output_type": "stream",
          "text": [
            "\n",
            "CPU times: user 34min 52s, sys: 9min 23s, total: 44min 15s\n",
            "Wall time: 1h 7min 20s\n"
          ],
          "name": "stdout"
        }
      ]
    },
    {
      "cell_type": "markdown",
      "metadata": {
        "id": "1cj9gst-hRDg"
      },
      "source": [
        "# Inference"
      ]
    },
    {
      "cell_type": "code",
      "metadata": {
        "id": "ZC263x69sfai"
      },
      "source": [
        "import os\n",
        "import sys\n",
        "sys.path.append(\"Monk_Object_Detection/4_efficientdet/lib/\");"
      ],
      "execution_count": null,
      "outputs": []
    },
    {
      "cell_type": "code",
      "metadata": {
        "id": "IsxWRWL8tcgP"
      },
      "source": [
        "from infer_detector import Infer"
      ],
      "execution_count": null,
      "outputs": []
    },
    {
      "cell_type": "code",
      "metadata": {
        "id": "VEuuSjWYte5-"
      },
      "source": [
        "gtf = Infer();"
      ],
      "execution_count": null,
      "outputs": []
    },
    {
      "cell_type": "code",
      "metadata": {
        "id": "YWbOZk-rthzW"
      },
      "source": [
        "#our trained model weights are in here in onxx format\n",
        "gtf.Model(model_dir=\"trained/\")"
      ],
      "execution_count": null,
      "outputs": []
    },
    {
      "cell_type": "code",
      "metadata": {
        "id": "CH2Tv7gstkP_"
      },
      "source": [
        "#extract class list from our annotations\n",
        "import json\n",
        "with open('train/_annotations.coco.json') as json_file:\n",
        "    data = json.load(json_file)\n",
        "class_list = []\n",
        "for category in data['categories']:\n",
        "  class_list.append(category['name'])"
      ],
      "execution_count": null,
      "outputs": []
    },
    {
      "cell_type": "code",
      "metadata": {
        "id": "Oc87-3NPummz",
        "colab": {
          "base_uri": "https://localhost:8080/"
        },
        "outputId": "95f53b15-a063-4ae1-a357-97153ab352d2"
      },
      "source": [
        "%%time\n",
        "test_images = [f for f in os.listdir('test') if f.endswith('.jpg')]\n",
        "import random\n",
        "img_path = \"test/\" + random.choice(test_images);\n",
        "duration, scores, labels, boxes = gtf.Predict(img_path, class_list, vis_threshold=0.2);"
      ],
      "execution_count": null,
      "outputs": [
        {
          "output_type": "stream",
          "text": [
            "Done. (0.044s)\n",
            "CPU times: user 230 ms, sys: 72.3 ms, total: 303 ms\n",
            "Wall time: 319 ms\n"
          ],
          "name": "stdout"
        }
      ]
    },
    {
      "cell_type": "markdown",
      "metadata": {
        "id": "WfyWosXWrbWN"
      },
      "source": [
        "# Export Trained Weights"
      ]
    },
    {
      "cell_type": "code",
      "metadata": {
        "id": "KwDS9qqBbMQa",
        "colab": {
          "base_uri": "https://localhost:8080/"
        },
        "outputId": "456c40a0-b451-4586-9d6b-7c80f0a6d625"
      },
      "source": [
        "#export trained model\n",
        "# mount Google Drive\n",
        "from google.colab import drive\n",
        "drive.mount('/content/drive')"
      ],
      "execution_count": null,
      "outputs": [
        {
          "output_type": "stream",
          "text": [
            "Mounted at /content/drive\n"
          ],
          "name": "stdout"
        }
      ]
    },
    {
      "cell_type": "code",
      "metadata": {
        "id": "WSqXvZhlbfCc"
      },
      "source": [
        "%mkdir trained_export\n",
        "%cp ./trained/signatrix_efficientdet_coco.onnx ./trained_export/signatrix_efficientdet_coco_$(date +%F-%H:%M).onnx\n",
        "%cp ./trained/signatrix_efficientdet_coco.pth ./trained_export/signatrix_efficientdet_coco_$(date +%F-%H:%M).pth\n",
        "%mv ./trained_export/* /content/drive/My\\ Drive/"
      ],
      "execution_count": null,
      "outputs": []
    },
    {
      "cell_type": "code",
      "metadata": {
        "id": "fJ5__F0haiqP"
      },
      "source": [
        "#export trained model\n",
        "# mount Google Drive\n",
        "from google.colab import drive\n",
        "drive.mount('/content/drive')"
      ],
      "execution_count": null,
      "outputs": []
    },
    {
      "cell_type": "code",
      "metadata": {
        "id": "nhyNJ7GsatcD"
      },
      "source": [
        "#our fork of the Tessellate-Imaging image detection library\n",
        "#!rm -rf Monk_Object_Detection\n",
        "! git clone https://github.com/roboflow-ai/Monk_Object_Detection.git"
      ],
      "execution_count": null,
      "outputs": []
    },
    {
      "cell_type": "code",
      "metadata": {
        "id": "pTVWQohaa2WU"
      },
      "source": [
        "# For colab use the command below\n",
        "# Set up library requirments\n",
        "! cd Monk_Object_Detection/3_mxrcnn/installation && cat requirements_colab.txt | xargs -n 1 -L 1 pip install\n",
        "\n",
        "#fixed version of tqdm output for Colab\n",
        "!pip install --force https://github.com/chengs/tqdm/archive/colab.zip\n",
        "#IGNORE restart runtime warning, it is indeed installed\n",
        "#missing a few extra packages that we will need later!\n",
        "!pip install efficientnet_pytorch\n",
        "!pip install tensorboardX"
      ],
      "execution_count": null,
      "outputs": []
    },
    {
      "cell_type": "code",
      "metadata": {
        "id": "_rKXFWlLbZlf"
      },
      "source": [
        "#recover trained weights\n",
        "!mkdir '/trained'\n",
        "!cp '/content/drive/MyDrive/signatrix_efficientdet_coco_2021-03-22-02:02.onnx' '/trained/signatrix_efficientdet_coco.onnx'\n",
        "!cp '/content/drive/MyDrive/signatrix_efficientdet_coco_2021-03-22-02:02.pth' '/trained/signatrix_efficientdet_coco.pth'"
      ],
      "execution_count": null,
      "outputs": []
    },
    {
      "cell_type": "code",
      "metadata": {
        "id": "maetU4VddJNC"
      },
      "source": [
        "import os\n",
        "import sys\n",
        "sys.path.append(\"Monk_Object_Detection/4_efficientdet/lib/\");"
      ],
      "execution_count": null,
      "outputs": []
    },
    {
      "cell_type": "code",
      "metadata": {
        "id": "C3Jrco_TdkhU"
      },
      "source": [
        "from infer_detector import Infer\n",
        "gtf = Infer();"
      ],
      "execution_count": null,
      "outputs": []
    },
    {
      "cell_type": "code",
      "metadata": {
        "id": "GgZKzmI1egUa"
      },
      "source": [
        "#our trained model weights are in here in onxx format\n",
        "gtf.Model(model_dir=\"/trained\")"
      ],
      "execution_count": null,
      "outputs": []
    },
    {
      "cell_type": "code",
      "metadata": {
        "id": "lEksZQC5fMQ2",
        "colab": {
          "base_uri": "https://localhost:8080/"
        },
        "outputId": "12b1122c-a820-4243-cc10-f58d27a20448"
      },
      "source": [
        "#download some test data\n",
        "!curl -L [YOUR LINK HERE] | jar -x"
      ],
      "execution_count": null,
      "outputs": [
        {
          "output_type": "stream",
          "text": [
            "curl: (3) [globbing] bad range in column 2\n",
            "  % Total    % Received % Xferd  Average Speed   Time    Time     Time  Current\n",
            "                                 Dload  Upload   Total   Spent    Left  Speed\n",
            "\r  0     0    0     0    0     0      0      0 --:--:-- --:--:-- --:--:--     0curl: (6) Could not resolve host: LINK\n",
            "curl: (3) [globbing] unmatched close brace/bracket in column 5\n"
          ],
          "name": "stdout"
        }
      ]
    },
    {
      "cell_type": "code",
      "metadata": {
        "id": "ZOOGlzad1Kln",
        "colab": {
          "base_uri": "https://localhost:8080/"
        },
        "outputId": "6befb8f8-0b39-44d7-ea4b-1dd61a458054"
      },
      "source": [
        "!ls test"
      ],
      "execution_count": null,
      "outputs": [
        {
          "output_type": "stream",
          "text": [
            "0b47311f426ff926578c9d738d683e76_jpg.rf.0b55f43ac16aa65c889558d8ea757072.jpg\n",
            "1c0060ef868bdc326ce5e6389cb6732f_jpg.rf.9ce88078ea356949f4ab7ad9cfdfc62d.jpg\n",
            "2f6fb003bb89cd401322a535acb42f65_jpg.rf.91ad9df05bd1f86bab67c8368ae5e4ad.jpg\n",
            "410993714e325a1de3e394ffe860df3a_jpg.rf.519bf0fdbd5e38cd44cae1cfebc98536.jpg\n",
            "4e3117459d759798537eb52cf5bf534d_jpg.rf.5b99421bf416463a8c75cfd07f8a68d1.jpg\n",
            "5a35ba2ec3e0d0b2b12b1758a8ac29aa_jpg.rf.a907af85301c729635d6ab1c31eb31b2.jpg\n",
            "654bb8835258b26c466b1c19893df451_jpg.rf.95aad22d4dd31ab256cb2bcff02a34dd.jpg\n",
            "685b860d412b91f5d4f7f9e643b84452_jpg.rf.5ba8dc0b5d2585d01b28089debd42cd6.jpg\n",
            "73a38a5c8f8f1b09f093f304660d5326_jpg.rf.2d2fa2f4b419d9f2a57fb82d38d8bc6b.jpg\n",
            "749e9074a77f8d34d86e2218f26cdab4_jpg.rf.8079f8abd9f24ec16e76fcbf18489f46.jpg\n",
            "7a34d8620235048917b28bcfd3b5572b_jpg.rf.71653deb6fe88ad472dabea12353373d.jpg\n",
            "8ff752f9ed443e6e49d495abfceb2032_jpg.rf.c3e91277eea99c26328e39a6f0285189.jpg\n",
            "a3863d0be6002c21b20ac88817b2c56f_jpg.rf.e421134b139d57e02e7df9468a35c1fb.jpg\n",
            "_annotations.coco.json\n",
            "b4ff4132c8c85da97d8bf9a2a4ed3e3d_jpg.rf.51d1d3e2f2ae5b116c7daf5a304e75ad.jpg\n",
            "b526b661a33ff481231d1342aff2a266_jpg.rf.b63c85ea45c4e3a665915fddee8c76f9.jpg\n",
            "b9402881fa580d0eb8b9b98845417550_jpg.rf.087d716cdfdd9cf2cb65b437af716d4d.jpg\n",
            "c4943d83c06a12ad5e0399d19514a4ca_jpg.rf.8b0040b3b68009f6f700ea28fb1aa491.jpg\n",
            "c5a012dfa72816098d23fc8baee67834_jpg.rf.e3f72193f30138545bf762265f30083f.jpg\n",
            "cf4769d0586df6b3fb0dc618d9f8abe6_jpg.rf.326565beb891e3656f7083109897a48b.jpg\n",
            "cfc306bf86176b92ffc1afbb98d7896f_jpg.rf.a3779da7c72dfa583f9fffa23c231beb.jpg\n",
            "d7887071e972604ddf5940d8eb2702e7_jpg.rf.9e1760bfa031e0f1b9ec48b6c0448994.jpg\n",
            "e0d38d159ad3a801d0304d7e275812cc_jpg.rf.fa0bb8160816a373df824349a24a11e7.jpg\n",
            "e4147f3d8819fc5d67a9f72596bd9e47_jpg.rf.ff3718b0109da4fea85bf6ff5631104c.jpg\n",
            "e4583d082076b2b549b3736ad1b193c9_jpg.rf.be7ed36bb2bee36cf4edad46fdd4ec75.jpg\n",
            "f1a24b6bb778ee11ba33687415aa84f2_jpg.rf.6e35192bbbb13f887540067e07d5d660.jpg\n",
            "fdcd6ada676799da8a870f58fdf548db_jpg.rf.54abced68347da874d25c5d3886d3c4a.jpg\n",
            "IMG_0159_JPG.rf.1cf4f243b5072d63e492711720df35f7.jpg\n",
            "IMG_0169_JPG.rf.b1530b71278953ad465d06863135c71e.jpg\n",
            "IMG_0170_JPG.rf.6e336797b63833d78997207d352a44fc.jpg\n"
          ],
          "name": "stdout"
        }
      ]
    },
    {
      "cell_type": "code",
      "metadata": {
        "id": "M0qOyjPh1MOs"
      },
      "source": [
        "#extract class list from our annotations\n",
        "#in your application you will probably already have this saved\n",
        "import json\n",
        "with open('train/_annotations.coco.json') as json_file:\n",
        "    data = json.load(json_file)\n",
        "class_list = []\n",
        "for category in data['categories']:\n",
        "  class_list.append(category['name'])"
      ],
      "execution_count": null,
      "outputs": []
    }
  ]
}